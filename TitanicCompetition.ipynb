{
 "cells": [
  {
   "cell_type": "code",
   "execution_count": null,
   "id": "c28ac086",
   "metadata": {},
   "outputs": [],
   "source": [
    "import pandas as pd\n",
    "from sklearn.linear_model import LogisticRegression\n",
    "from sklearn.model_selection import train_test_split\n",
    "from sklearn.metrics import accuracy_score"
   ]
  },
  {
   "cell_type": "code",
   "execution_count": null,
   "id": "d091577f",
   "metadata": {},
   "outputs": [],
   "source": [
    "train_df = pd.read_csv('train.csv')\n",
    "test_df = pd.read_csv('test.csv')\n",
    "test_passenger_ids = test_df['PassengerId']"
   ]
  },
  {
   "cell_type": "code",
   "execution_count": null,
   "id": "f5b7005f",
   "metadata": {},
   "outputs": [],
   "source": [
    "train_df.head()"
   ]
  },
  {
   "cell_type": "code",
   "execution_count": null,
   "id": "8d0f97c2",
   "metadata": {},
   "outputs": [],
   "source": [
    "print(train_df.describe())"
   ]
  },
  {
   "cell_type": "code",
   "execution_count": null,
   "id": "2f402020",
   "metadata": {},
   "outputs": [],
   "source": [
    "print(train_df.isnull().sum())"
   ]
  },
  {
   "cell_type": "markdown",
   "id": "62097712",
   "metadata": {},
   "source": [
    "Funzione di Analisi : gestisce i valori mancanti di Age,Fare con la media dei valori, Embraked è il porto di Imbarco e usiamo la moda ovvero il porto più frequente nel data set.\n",
    "Creiamo una nuova colonna nel df che  riassume le informazioni  di SibSp(fratelli/cugini) e Parch(genitori/figli), sex viene convertito in 0 e 1 in base al sesso, pd.get_dummies appica il one_hot encoding a Embarked, e trasfroma la collonna in colonne diverse con valori che hanno 0 e 1 , dopo vengono troppate tutte le colonne che non servono al modello per fare le previsioni e infine ritorna il dataframe pulito."
   ]
  },
  {
   "cell_type": "code",
   "execution_count": null,
   "id": "3228344e",
   "metadata": {},
   "outputs": [],
   "source": [
    "def preprocess_data(df):\n",
    "    df['Age'].fillna(df['Age'].median(), inplace=True)\n",
    "    df['Fare'].fillna(df['Fare'].median(), inplace=True)\n",
    "    df['Embarked'].fillna(df['Embarked'].mode()[0], inplace=True)\n",
    "    df['FamilySize'] = df['SibSp'] + df['Parch']\n",
    "    df['Sex'] = df['Sex'].map({'male': 0, 'female': 1})\n",
    "    df = pd.get_dummies(df, columns=['Embarked'], drop_first=True)\n",
    "    df = df.drop(['PassengerId', 'Name', 'Ticket', 'Cabin', 'SibSp', 'Parch'], axis=1)\n",
    "    return df"
   ]
  },
  {
   "cell_type": "code",
   "execution_count": null,
   "id": "42a3bbcb",
   "metadata": {},
   "outputs": [],
   "source": [
    "train_processed = preprocess_data(train_df.copy())"
   ]
  },
  {
   "cell_type": "code",
   "execution_count": null,
   "id": "c42657df",
   "metadata": {},
   "outputs": [],
   "source": [
    "X = train_processed.drop('Survived', axis=1)\n",
    "y = train_processed['Survived']"
   ]
  },
  {
   "cell_type": "code",
   "execution_count": null,
   "id": "98e59887",
   "metadata": {},
   "outputs": [],
   "source": [
    "X_train, X_val, y_train, y_val = train_test_split(X, y, test_size=0.2, random_state=42)\n",
    "\n",
    "print(f\"Dimensione Training Set: {X_train.shape[0]} campioni\")\n",
    "print(f\"Dimensione Validation Set: {X_val.shape[0]} campioni\")"
   ]
  },
  {
   "cell_type": "markdown",
   "id": "6b98a88f",
   "metadata": {},
   "source": [
    "# Primo Addestramento del modello "
   ]
  },
  {
   "cell_type": "code",
   "execution_count": null,
   "id": "e3800d79",
   "metadata": {},
   "outputs": [],
   "source": [
    "model = LogisticRegression(max_iter=2000, random_state=42)\n",
    "model.fit(X_train, y_train)"
   ]
  },
  {
   "cell_type": "code",
   "execution_count": null,
   "id": "5b5cd74c",
   "metadata": {},
   "outputs": [],
   "source": [
    "predictions_val = model.predict(X_val)\n",
    "accuracy = accuracy_score(y_val, predictions_val)\n",
    "print(f\"\\nAccuratezza sul set di validazione: {accuracy:.4f}\")"
   ]
  },
  {
   "cell_type": "code",
   "execution_count": null,
   "id": "5af79d85",
   "metadata": {},
   "outputs": [],
   "source": [
    "final_model = LogisticRegression(max_iter=2000, random_state=42)\n",
    "final_model.fit(X, y)"
   ]
  },
  {
   "cell_type": "code",
   "execution_count": null,
   "id": "8ea6c0ce",
   "metadata": {},
   "outputs": [],
   "source": [
    "test_processed = preprocess_data(test_df.copy())\n",
    "# Allinea le colonne (assicurati che il test set abbia le stesse colonne del training)\n",
    "test_final = test_processed.reindex(columns=X.columns, fill_value=0)"
   ]
  },
  {
   "cell_type": "code",
   "execution_count": null,
   "id": "f7887e95",
   "metadata": {},
   "outputs": [],
   "source": [
    "final_predictions = final_model.predict(test_final)\n",
    "survived_df = pd.DataFrame({\n",
    "    'PassengerId': test_passenger_ids,\n",
    "    'Survived': final_predictions\n",
    "})\n",
    "survived_df.to_csv('survived.csv', index=False)\n",
    "\n"
   ]
  }
 ],
 "metadata": {
  "kernelspec": {
   "display_name": "Python 3",
   "language": "python",
   "name": "python3"
  },
  "language_info": {
   "codemirror_mode": {
    "name": "ipython",
    "version": 3
   },
   "file_extension": ".py",
   "mimetype": "text/x-python",
   "name": "python",
   "nbconvert_exporter": "python",
   "pygments_lexer": "ipython3",
   "version": "3.13.4"
  }
 },
 "nbformat": 4,
 "nbformat_minor": 5
}
