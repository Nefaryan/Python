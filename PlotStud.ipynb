{
 "cells": [
  {
   "cell_type": "code",
   "execution_count": null,
   "id": "787cdb54",
   "metadata": {},
   "outputs": [],
   "source": [
    "import pandas as pd\n",
    "import matplotlib.pyplot as plt\n",
    "import numpy as np\n",
    "\n",
    "nomi_studenti = []\n",
    "dati_studenti = []\n",
    "mesi = ['Gennaio', 'Febbraio', 'Marzo', 'Aprile', 'Maggio', 'Giugno']\n",
    "\n",
    "print(\"--- Raccolta Dati Studenti ---\")\n",
    "for i in range(4):\n",
    "    nome = input(f\"Nome dello studente {i+1}: \").strip()\n",
    "    nomi_studenti.append(nome)\n",
    "    \n",
    "    medie_mensili = []\n",
    "    print(f\"Inserisci le medie dei voti per {nome}:\")\n",
    "    for mese in mesi:\n",
    "        while True:\n",
    "            try:\n",
    "                media_str = input(f\"  - Media di {mese}: \").replace(',', '.')\n",
    "                media = float(media_str)\n",
    "                medie_mensili.append(media)\n",
    "                break\n",
    "            except ValueError:\n",
    "                print(\"Input non valido. Inserisci un numero.\")\n",
    "    dati_studenti.append(medie_mensili)\n",
    "    print(\"-\" * 20)\n",
    "\n",
    "# Creiamo il DataFrame iniziale\n",
    "df_input = pd.DataFrame(dati_studenti, columns=mesi, index=nomi_studenti)\n",
    "\n",
    "# --- NUOVO: Salvataggio del DataFrame in un file CSV ---\n",
    "nome_file = 'medie_studenti.csv'\n",
    "df_input.to_csv(nome_file)\n",
    "\n",
    "print(f\"✅ Dati raccolti. Il DataFrame è stato salvato con successo nel file '{nome_file}'.\")"
   ]
  },
  {
   "cell_type": "code",
   "execution_count": null,
   "id": "4dd4be19",
   "metadata": {},
   "outputs": [],
   "source": [
    "nome_file = 'medie_studenti.csv'\n",
    "df_dati = pd.read_csv(nome_file, index_col=0)"
   ]
  },
  {
   "cell_type": "code",
   "execution_count": null,
   "id": "a650b611",
   "metadata": {},
   "outputs": [],
   "source": [
    "\n",
    "\n",
    "\n",
    "colori = plt.cm.viridis(np.linspace(0, 1, 4))\n",
    "fig, axs = plt.subplots(2, 2, figsize=(15, 10), constrained_layout=True)\n",
    "fig.suptitle('Andamento Medie Voti Mensili (Dati da CSV)', fontsize=20, weight='bold')\n",
    "axs = axs.flatten()\n",
    "\n",
    "# Il ciclo ora itera su 'df_dati'\n",
    "for i, (studente, dati_studente) in enumerate(df_dati.iterrows()):\n",
    "    axs[i].plot(mesi, dati_studente, marker='o', label=studente, color=colori[i])\n",
    "    axs[i].set_title(f'Andamento di {studente}')\n",
    "    axs[i].set_ylabel('Media Voto')\n",
    "    axs[i].set_ylim(0, 10.5)\n",
    "    axs[i].tick_params(axis='x', rotation=45)\n",
    "    axs[i].legend()\n",
    "    axs[i].grid(True)\n",
    "\n",
    "plt.show()"
   ]
  }
 ],
 "metadata": {
  "kernelspec": {
   "display_name": ".venv",
   "language": "python",
   "name": "python3"
  },
  "language_info": {
   "codemirror_mode": {
    "name": "ipython",
    "version": 3
   },
   "file_extension": ".py",
   "mimetype": "text/x-python",
   "name": "python",
   "nbconvert_exporter": "python",
   "pygments_lexer": "ipython3",
   "version": "3.13.5"
  }
 },
 "nbformat": 4,
 "nbformat_minor": 5
}
