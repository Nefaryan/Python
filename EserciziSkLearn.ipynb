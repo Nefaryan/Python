{
 "cells": [
  {
   "cell_type": "code",
   "execution_count": null,
   "id": "1fcac88a",
   "metadata": {},
   "outputs": [],
   "source": [
    "import pandas as pd\n",
    "import numpy as np\n",
    "import matplotlib.pyplot as plt\n",
    "import seaborn as sns\n",
    "from sklearn.preprocessing import StandardScaler, MinMaxScaler\n",
    "from sklearn.datasets import load_wine, make_classification , load_diabetes , make_regression\n"
   ]
  },
  {
   "cell_type": "markdown",
   "id": "0d05fbae",
   "metadata": {},
   "source": [
    "## PARTE 1"
   ]
  },
  {
   "cell_type": "markdown",
   "id": "7533df76",
   "metadata": {},
   "source": [
    "# Esercizio 1.1 Wine\n",
    "- Quanti campioni e feature contiene?\n",
    "- Quante classi ci sono?\n",
    "- Quali sono i nomi delle feature?\n",
    "- Visualizza le prime 3 righe dei dati"
   ]
  },
  {
   "cell_type": "code",
   "execution_count": null,
   "id": "69fb9a2d",
   "metadata": {},
   "outputs": [],
   "source": [
    "wine_data = load_wine()\n",
    "\n",
    "df = pd.DataFrame(wine_data.data, columns=wine_data.feature_names)\n",
    "df['target'] = wine_data.target\n",
    "\n",
    "print(df.info())\n",
    "print(df.describe())\n",
    "\n",
    "print(df.isnull().sum())"
   ]
  },
  {
   "cell_type": "code",
   "execution_count": null,
   "id": "f340589f",
   "metadata": {},
   "outputs": [],
   "source": [
    "# --- Domanda 1: Quanti campioni e feature contiene? ---\n",
    "num_samples, num_features = df.shape\n",
    "num_features = num_features - 1\n",
    "\n",
    "print(f\"1. Il dataset contiene {num_samples} campioni e {num_features} feature.\")\n",
    "print(\"-\" * 50)\n",
    "\n",
    "# --- Domanda 2: Quante classi ci sono? ---\n",
    "\n",
    "num_classes = len(wine_data.target_names)\n",
    "class_names = wine_data.target_names\n",
    "\n",
    "print(f\"2. Ci sono {num_classes} classi nel dataset.\")\n",
    "print(f\"   I nomi delle classi sono: {', '.join(class_names)}\")\n",
    "print(\"-\" * 50)\n",
    "\n",
    "# --- Domanda 3: Quali sono i nomi delle feature? ---\n",
    "\n",
    "feature_names = wine_data.feature_names\n",
    "\n",
    "print(\"3. I nomi delle feature sono:\")\n",
    "for name in feature_names:\n",
    "    print(f\"   - {name}\")\n",
    "print(\"-\" * 50)\n",
    "\n",
    "# --- Domanda 4: Visualizza le prime 3 righe dei dati ---\n",
    "df.head(3)"
   ]
  },
  {
   "cell_type": "markdown",
   "id": "9b28275a",
   "metadata": {},
   "source": [
    "# Esercizio 1.2\n",
    " - 500 campioni\n",
    " - 8 feature totali (4 informative, 2 ridondanti)\n",
    " - 3 classi\n",
    " - 2 cluster per classe\n",
    " Poi visualizza le statistiche di base del dataset creato\n"
   ]
  },
  {
   "cell_type": "code",
   "execution_count": null,
   "id": "52d39776",
   "metadata": {},
   "outputs": [],
   "source": [
    "# Parametri per la generazione del dataset\n",
    "n_samples = 500      \n",
    "n_features = 8       \n",
    "n_informative = 4    \n",
    "n_redundant = 2       \n",
    "n_classes = 3         \n",
    "n_clusters_per_class = 2 \n",
    "\n",
    "# Generazione del dataset\n",
    "# X conterrà le feature, y le etichette delle classi\n",
    "X, y = make_classification(\n",
    "    n_samples=n_samples,\n",
    "    n_features=n_features,\n",
    "    n_informative=n_informative,\n",
    "    n_redundant=n_redundant,\n",
    "    n_classes=n_classes,\n",
    "    n_clusters_per_class=n_clusters_per_class,\n",
    "    random_state=42 \n",
    ")"
   ]
  },
  {
   "cell_type": "code",
   "execution_count": null,
   "id": "de018d35",
   "metadata": {},
   "outputs": [],
   "source": [
    "# Diamo nomi generici alle colonne delle feature\n",
    "feature_names = [f'feature_{i+1}' for i in range(n_features)]\n",
    "df = pd.DataFrame(X, columns=feature_names)\n",
    "df['class'] = y\n",
    "\n",
    "print(\"Dataset sintetico creato con successo!\")\n",
    "print(f\"Dimensioni del DataFrame: {df.shape}\")"
   ]
  },
  {
   "cell_type": "code",
   "execution_count": null,
   "id": "539ce082",
   "metadata": {},
   "outputs": [],
   "source": [
    "# Visualizza le statistiche di base del dataset\n",
    "# Il metodo .describe() calcola le statistiche per tutte le colonne numeriche\n",
    "print(\"Statistiche di base del dataset generato:\")\n",
    "basic_stats = df.describe()\n",
    "\n",
    "# Mostra la tabella delle statistiche\n",
    "display(basic_stats)"
   ]
  },
  {
   "cell_type": "markdown",
   "id": "48907712",
   "metadata": {},
   "source": [
    "# Esercizio 1.3\n",
    "-  Carica il dataset Diabetes\n",
    "-  Crea un dataset sintetico di regressione con le stesse dimensioni\n",
    "-  Confronta le statistiche (media, std, range) delle feature"
   ]
  },
  {
   "cell_type": "code",
   "execution_count": null,
   "id": "2284132e",
   "metadata": {},
   "outputs": [],
   "source": [
    "# 1. Carica il dataset Diabetes\n",
    "diabetes_data = load_diabetes()\n",
    "df_diabetes = pd.DataFrame(diabetes_data.data, columns=diabetes_data.feature_names)\n",
    "\n",
    "# Ottieni le dimensioni per il dataset sintetico\n",
    "n_samples, n_features = df_diabetes.shape\n",
    "\n",
    "print(\"Dataset Diabetes caricato.\")\n",
    "print(f\"Dimensioni: {n_samples} campioni, {n_features} feature.\")\n",
    "print(\"Nomi delle feature:\", df_diabetes.columns.to_list())"
   ]
  },
  {
   "cell_type": "code",
   "execution_count": null,
   "id": "131fdd03",
   "metadata": {},
   "outputs": [],
   "source": [
    "# 2. Crea un dataset sintetico con le stesse dimensioni\n",
    "X_synth, y_synth = make_regression(\n",
    "    n_samples=n_samples,\n",
    "    n_features=n_features,\n",
    "    n_informative=5,  \n",
    "    noise=10,         \n",
    "    random_state=42   \n",
    ")\n",
    "\n",
    "df_synthetic = pd.DataFrame(X_synth, columns=df_diabetes.columns)\n",
    "\n",
    "print(\"Dataset sintetico creato con successo.\")\n",
    "print(f\"Dimensioni: {df_synthetic.shape[0]} campioni, {df_synthetic.shape[1]} feature.\")"
   ]
  },
  {
   "cell_type": "code",
   "execution_count": null,
   "id": "be105056",
   "metadata": {},
   "outputs": [],
   "source": [
    "# Calcola le statistiche per entrambi i dataset\n",
    "stats_diabetes = df_diabetes.describe().T  # .T traspone la tabella per una migliore leggibilità\n",
    "stats_synthetic = df_synthetic.describe().T\n",
    "\n",
    "# Aggiungiamo il 'range' (max - min) per un confronto più completo\n",
    "stats_diabetes['range'] = stats_diabetes['max'] - stats_diabetes['min']\n",
    "stats_synthetic['range'] = stats_synthetic['max'] - stats_synthetic['min']\n",
    "\n",
    "# Unione le tabelle delle statistiche per un confronto fianco a fianco\n",
    "# Aggiunta di un suffisso per distinguere le colonne\n",
    "comparison_df = stats_diabetes[['mean', 'std', 'range']].join(\n",
    "    stats_synthetic[['mean', 'std', 'range']],\n",
    "    lsuffix='_diabetes',\n",
    "    rsuffix='_synthetic'\n",
    ")\n",
    "\n",
    "print(\"Tabella di confronto delle statistiche principali:\")\n",
    "display(comparison_df)"
   ]
  },
  {
   "cell_type": "code",
   "execution_count": null,
   "id": "e91603b8",
   "metadata": {},
   "outputs": [],
   "source": [
    "\n",
    "fig, (ax1, ax2) = plt.subplots(1, 2, figsize=(14, 6))\n",
    "\n",
    "ax1.scatter(df_diabetes['bmi'], df_diabetes['bp'], alpha=0.6, edgecolors='k')\n",
    "ax1.set_title('Dataset Diabetes (Reale)')\n",
    "ax1.set_xlabel('BMI (Indice di Massa Corporea)')\n",
    "ax1.set_ylabel('BP (Pressione Sanguigna)')\n",
    "ax1.grid(True)\n",
    "\n",
    "ax2.scatter(df_synthetic['bmi'], df_synthetic['bp'], alpha=0.6, edgecolors='k', color='orange')\n",
    "ax2.set_title('Dataset Sintetico')\n",
    "ax2.set_xlabel('Feature Sintetica (bmi)')\n",
    "ax2.set_ylabel('Feature Sintetica (bp)')\n",
    "ax2.grid(True)\n",
    "\n",
    "plt.suptitle('Confronto Grafico: BMI vs Pressione Sanguigna', fontsize=16)\n",
    "plt.tight_layout()\n",
    "plt.show()"
   ]
  },
  {
   "cell_type": "markdown",
   "id": "41b17509",
   "metadata": {},
   "source": [
    "## Parte 2"
   ]
  }
 ],
 "metadata": {
  "kernelspec": {
   "display_name": ".venv",
   "language": "python",
   "name": "python3"
  },
  "language_info": {
   "codemirror_mode": {
    "name": "ipython",
    "version": 3
   },
   "file_extension": ".py",
   "mimetype": "text/x-python",
   "name": "python",
   "nbconvert_exporter": "python",
   "pygments_lexer": "ipython3",
   "version": "3.13.5"
  }
 },
 "nbformat": 4,
 "nbformat_minor": 5
}
