{
 "cells": [
  {
   "cell_type": "markdown",
   "id": "163d4355",
   "metadata": {},
   "source": [
    "## 1. sklearn.datasets: Caricamento e Generazione di Dataset\n",
    "\n",
    "### Esercizio 1.1 (Base): Esplorazione Dataset Integrati\n",
    "Carica il dataset Wine e analizza le sue caratteristiche principali."
   ]
  },
  {
   "cell_type": "code",
   "execution_count": 1,
   "id": "acd0175e",
   "metadata": {},
   "outputs": [],
   "source": [
    "# Esercizio 1.1: Carica il dataset Wine e rispondi alle seguenti domande:\n",
    "# 1. Quanti campioni e feature contiene?\n",
    "# 2. Quante classi ci sono?\n",
    "# 3. Quali sono i nomi delle feature?\n",
    "# 4. Visualizza le prime 3 righe dei dati\n"
   ]
  },
  {
   "cell_type": "markdown",
   "id": "1fb568cf",
   "metadata": {},
   "source": [
    "### Esercizio 1.2 (Intermedio): Generazione Dataset Personalizzato\n",
    "Crea un dataset sintetico per un problema di classificazione con specifiche caratteristiche."
   ]
  },
  {
   "cell_type": "code",
   "execution_count": 2,
   "id": "7d824457",
   "metadata": {},
   "outputs": [],
   "source": [
    "# Esercizio 1.2: Genera un dataset di classificazione con:\n",
    "# - 500 campioni\n",
    "# - 8 feature totali (4 informative, 2 ridondanti)\n",
    "# - 3 classi\n",
    "# - 2 cluster per classe\n",
    "# Poi visualizza le statistiche di base del dataset creato"
   ]
  },
  {
   "cell_type": "markdown",
   "id": "e1b985a3",
   "metadata": {},
   "source": [
    "### Esercizio 1.3 (Avanzato): Confronto Dataset Reali vs Sintetici\n",
    "Confronta le caratteristiche del dataset Diabetes con un dataset sintetico di regressione."
   ]
  },
  {
   "cell_type": "code",
   "execution_count": 3,
   "id": "821beb5f",
   "metadata": {},
   "outputs": [],
   "source": [
    "# Esercizio 1.3: \n",
    "# 1. Carica il dataset Diabetes\n",
    "# 2. Crea un dataset sintetico di regressione con le stesse dimensioni\n",
    "# 3. Confronta le statistiche (media, std, range) delle feature"
   ]
  },
  {
   "cell_type": "markdown",
   "id": "dd1d7926",
   "metadata": {},
   "source": [
    "## 2. sklearn.preprocessing: Preprocessing dei Dati\n",
    "\n",
    "### Esercizio 2.1 (Base): Scalatura Dati\n",
    "Applica diverse tecniche di scalatura sui dati del Wine dataset."
   ]
  },
  {
   "cell_type": "code",
   "execution_count": 4,
   "id": "cb7301bc",
   "metadata": {},
   "outputs": [],
   "source": [
    "# Esercizio 2.1: Applica StandardScaler e MinMaxScaler al dataset Wine\n",
    "# Confronta i risultati mostrando media e deviazione standard prima e dopo"
   ]
  },
  {
   "cell_type": "markdown",
   "id": "78c615bd",
   "metadata": {},
   "source": [
    "### Esercizio 2.2 (Intermedio): Gestione Dati Mancanti\n",
    "Crea e gestisci un dataset con valori mancanti usando diverse strategie di imputazione."
   ]
  },
  {
   "cell_type": "code",
   "execution_count": 5,
   "id": "f38564e8",
   "metadata": {},
   "outputs": [],
   "source": [
    "# Esercizio 2.2: \n",
    "# 1. Crea un array con valori mancanti (NaN) in posizioni casuali\n",
    "# 2. Applica SimpleImputer con strategie: 'mean', 'median', 'most_frequent'\n",
    "# 3. Confronta i risultati"
   ]
  },
  {
   "cell_type": "markdown",
   "id": "394a9dc3",
   "metadata": {},
   "source": [
    "## 3. sklearn.model_selection: Suddivisione Dati e Validazione\n",
    "\n",
    "### Esercizio 3.1 (Base): Suddivisione Dati\n",
    "Pratica la suddivisione dei dati con diverse proporzioni e analizza l'impatto."
   ]
  },
  {
   "cell_type": "code",
   "execution_count": 6,
   "id": "a510d216",
   "metadata": {},
   "outputs": [],
   "source": [
    "# Esercizio 3.1: Usa il dataset Iris per sperimentare diverse suddivisioni\n",
    "# Testa: 80-20, 70-30, 60-40 e osserva come cambia la distribuzione delle classi"
   ]
  },
  {
   "cell_type": "markdown",
   "id": "ff4b9283",
   "metadata": {},
   "source": [
    "### Esercizio 3.2 (Intermedio): Validazione Incrociata\n",
    "Implementa diverse strategie di cross-validation e confronta i risultati."
   ]
  },
  {
   "cell_type": "code",
   "execution_count": 7,
   "id": "f6d571c6",
   "metadata": {},
   "outputs": [],
   "source": [
    "# Esercizio 3.2: Applica cross-validation con diversi fold (3, 5, 10) \n",
    "# su un classificatore SVM usando il dataset Wine\n",
    "# Confronta accuracy media e deviazione standard"
   ]
  },
  {
   "cell_type": "markdown",
   "id": "b3ac4826",
   "metadata": {},
   "source": [
    "### Esercizio 3.3 (Avanzato): Ottimizzazione Iperparametri\n",
    "Confronta GridSearchCV e RandomizedSearchCV per ottimizzare un Random Forest."
   ]
  },
  {
   "cell_type": "code",
   "execution_count": null,
   "id": "14094961",
   "metadata": {},
   "outputs": [],
   "source": [
    "# Esercizio 3.3: Ottimizza un Random Forest usando entrambi i metodi\n",
    "# Confronta tempi di esecuzione e risultati ottenuti (best_params, best_score)\n",
    "\n"
   ]
  }
 ],
 "metadata": {
  "kernelspec": {
   "display_name": "Python 3",
   "language": "python",
   "name": "python3"
  },
  "language_info": {
   "codemirror_mode": {
    "name": "ipython",
    "version": 3
   },
   "file_extension": ".py",
   "mimetype": "text/x-python",
   "name": "python",
   "nbconvert_exporter": "python",
   "pygments_lexer": "ipython3",
   "version": "3.13.2"
  }
 },
 "nbformat": 4,
 "nbformat_minor": 5
}
