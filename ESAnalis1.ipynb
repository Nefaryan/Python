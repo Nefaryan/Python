{
 "cells": [
  {
   "cell_type": "code",
   "execution_count": null,
   "id": "506ed921",
   "metadata": {},
   "outputs": [],
   "source": [
    "import pandas as pd\n",
    "import matplotlib.pyplot as plt\n",
    "import seaborn as sns"
   ]
  },
  {
   "cell_type": "code",
   "execution_count": null,
   "id": "42e32293",
   "metadata": {},
   "outputs": [],
   "source": [
    "df = pd.read_csv(\"boston.csv\")"
   ]
  },
  {
   "cell_type": "markdown",
   "id": "039552cc",
   "metadata": {},
   "source": [
    "# 1. Prime 5 Righe"
   ]
  },
  {
   "cell_type": "code",
   "execution_count": null,
   "id": "96ae5ccf",
   "metadata": {},
   "outputs": [],
   "source": [
    "display(df.head())"
   ]
  },
  {
   "cell_type": "markdown",
   "id": "36059cf4",
   "metadata": {},
   "source": [
    "# 2. Ultime 5 righe"
   ]
  },
  {
   "cell_type": "code",
   "execution_count": null,
   "id": "75d77bd4",
   "metadata": {},
   "outputs": [],
   "source": [
    "display(df.tail())"
   ]
  },
  {
   "cell_type": "markdown",
   "id": "75a09f88",
   "metadata": {},
   "source": [
    "# 3. Visualizzare il tipo di dati di ciascuna colonna"
   ]
  },
  {
   "cell_type": "code",
   "execution_count": null,
   "id": "da4e4d2b",
   "metadata": {},
   "outputs": [],
   "source": [
    "df.info()"
   ]
  },
  {
   "cell_type": "markdown",
   "id": "e240b33e",
   "metadata": {},
   "source": [
    "# 4. Calcolare statistiche descrittive"
   ]
  },
  {
   "cell_type": "code",
   "execution_count": null,
   "id": "f2f0d694",
   "metadata": {},
   "outputs": [],
   "source": [
    "display(df.describe())"
   ]
  },
  {
   "cell_type": "markdown",
   "id": "07f13dc1",
   "metadata": {},
   "source": [
    "# 5. Visualizzare valori mancanti"
   ]
  },
  {
   "cell_type": "code",
   "execution_count": null,
   "id": "ab391af3",
   "metadata": {},
   "outputs": [],
   "source": [
    "display(df.isnull().sum())"
   ]
  },
  {
   "cell_type": "markdown",
   "id": "b9a17863",
   "metadata": {},
   "source": [
    "# 6. Verificare se ci sono correlazioni"
   ]
  },
  {
   "cell_type": "code",
   "execution_count": null,
   "id": "4ce833cf",
   "metadata": {},
   "outputs": [],
   "source": [
    "correlation_matrix = df.corr()\n",
    "display(correlation_matrix)"
   ]
  },
  {
   "cell_type": "markdown",
   "id": "046f0914",
   "metadata": {},
   "source": [
    "# 7. Grafico a mappa di calore"
   ]
  },
  {
   "cell_type": "code",
   "execution_count": null,
   "id": "79549403",
   "metadata": {},
   "outputs": [],
   "source": [
    "plt.figure(figsize=(12, 10))\n",
    "sns.heatmap(correlation_matrix,cmap=sns.diverging_palette(20, 220, n=200), annot=True, square=True)\n",
    "plt.title('Mappa di Calore della Correlazione del Boston Housing Dataset')\n",
    "plt.show()"
   ]
  },
  {
   "cell_type": "code",
   "execution_count": null,
   "id": "1d5f797a",
   "metadata": {},
   "outputs": [],
   "source": [
    "df2 = df.drop('CHAS', axis= 1)\n",
    "df2"
   ]
  },
  {
   "cell_type": "code",
   "execution_count": null,
   "id": "114671c4",
   "metadata": {},
   "outputs": [],
   "source": [
    "corr2 = df2.corr()\n",
    "\n",
    "plt.figure(figsize=(12, 10))\n",
    "sns.heatmap(corr2,cmap=sns.diverging_palette(20, 220, n=200), annot=True, square=True)\n",
    "plt.title('Mappa di Calore della Correlazione del Boston Housing Dataset')\n",
    "plt.show()"
   ]
  },
  {
   "cell_type": "code",
   "execution_count": null,
   "id": "999cfd3c",
   "metadata": {},
   "outputs": [],
   "source": [
    "dfMod = df"
   ]
  },
  {
   "cell_type": "code",
   "execution_count": null,
   "id": "2e38cff7",
   "metadata": {},
   "outputs": [],
   "source": [
    "value = dfMod['RM'].describe()\n",
    "value\n"
   ]
  },
  {
   "cell_type": "code",
   "execution_count": null,
   "id": "3795a312",
   "metadata": {},
   "outputs": [],
   "source": [
    "#Creo gli intervalli numerici\n",
    "bins = [0,5,7, float('inf')]\n",
    "\n",
    "#Lista dei nomi da usare per gli intervalli\n",
    "labels = ['Poche Stanze (meno di 5)','Stanze Medie (da 5 a 7)','Tante Stanze (più di 7)']"
   ]
  },
  {
   "cell_type": "code",
   "execution_count": null,
   "id": "377855e9",
   "metadata": {},
   "outputs": [],
   "source": [
    "#La funzione pd.cut associa il primo limite al primo nome, il secondo al secondo, e così via:\n",
    "dfMod['Categoria Stanze'] = pd.cut(dfMod['RM'], bins=bins, labels=labels, right=False)\n",
    "#Ragrruppo la nuova categoia e calcolo la media\n",
    "prezzoMedio = df.groupby('Categoria Stanze')['MEDV'].mean()\n",
    "#Prezzo Medio per Numero di Sranze\n",
    "print(round(prezzoMedio * 1000, 2).apply(lambda x: f\"${x:,.2f}\"))"
   ]
  },
  {
   "cell_type": "code",
   "execution_count": null,
   "id": "fa4b1359",
   "metadata": {},
   "outputs": [],
   "source": [
    "plt.figure(figsize=(8, 5)) \n",
    "sns.barplot(x=prezzoMedio.index, y=prezzoMedio.values, hue=prezzoMedio.index, palette='viridis',legend=True)\n",
    "plt.title('Prezzo Medio per Categoria di Stanze')\n",
    "plt.show()"
   ]
  },
  {
   "cell_type": "code",
   "execution_count": null,
   "id": "45114809",
   "metadata": {},
   "outputs": [],
   "source": [
    "plt.figure(figsize=(8, 5))\n",
    "sns.catplot(data=df, x='Categoria Stanze', y='MEDV',hue='Categoria Stanze', palette='viridis', legend= True)\n",
    "plt.title('Distribuzione dei Prezzi per Categoria')\n",
    "plt.show()"
   ]
  }
 ],
 "metadata": {
  "kernelspec": {
   "display_name": ".venv",
   "language": "python",
   "name": "python3"
  },
  "language_info": {
   "codemirror_mode": {
    "name": "ipython",
    "version": 3
   },
   "file_extension": ".py",
   "mimetype": "text/x-python",
   "name": "python",
   "nbconvert_exporter": "python",
   "pygments_lexer": "ipython3",
   "version": "3.13.5"
  }
 },
 "nbformat": 4,
 "nbformat_minor": 5
}
