{
 "cells": [
  {
   "cell_type": "code",
   "execution_count": 2,
   "id": "eddc6dae",
   "metadata": {},
   "outputs": [],
   "source": [
    "import pandas as pd\n",
    "from datetime import datetime, date "
   ]
  },
  {
   "cell_type": "code",
   "execution_count": null,
   "id": "5d4c556e",
   "metadata": {},
   "outputs": [
    {
     "name": "stdout",
     "output_type": "stream",
     "text": [
      "➡️ Cliente aggiunto!\n",
      "\n",
      "➡️ Cliente aggiunto!\n",
      "\n",
      "➡️ Cliente aggiunto!\n",
      "\n",
      "Inserimento terminato.\n",
      "{'Numero Cliente': [1, 2, 3], 'Nome': ['Ciao', 'Ciao', 'Ciao'], 'Cognome': ['Ciao', 'Ciao', 'ciao'], 'Data di Nascita': [datetime.date(2000, 1, 1), datetime.date(2020, 1, 1), datetime.date(2009, 1, 2)], 'Regione': ['Regione', 'Regione', 'Residenza']}\n"
     ]
    }
   ],
   "source": [
    "clienti = []\n",
    "\n",
    "cliente = {\n",
    "        \"Numero Cliente\": [],\n",
    "        \"Nome\": [],\n",
    "        \"Cognome\": [],\n",
    "        \"Data di Nascita\": [],\n",
    "        \"Regione\":[]   \n",
    "    }\n",
    "\n",
    "while True:\n",
    "\n",
    "    try:\n",
    "        n = int(input(\"Numero Cliente: \"))\n",
    "    except ValueError:\n",
    "        print(\"Inserisci un numero intero.\")\n",
    "        continue\n",
    "\n",
    "    if n == 0:\n",
    "        print(\"Inserimento terminato.\")\n",
    "        break\n",
    "\n",
    "    nome = input(\"Nome: \").strip()\n",
    "    cognome = input(\"Cognome: \").strip()\n",
    "\n",
    "    while True:\n",
    "        nascita_str = input(\"  Data di Nascita (YYYY-MM-DD): \").strip()\n",
    "        try:\n",
    "            data_nascita = datetime.strptime(nascita_str, \"%Y-%m-%d\").date()  \n",
    "            break\n",
    "        except ValueError:\n",
    "            print(\"Formato non valido. Riprova (es. 2003-11-02).\")\n",
    "\n",
    "    regione = input(\"Regione di Residenza: \").strip()\n",
    "\n",
    "\n",
    "    cliente[\"Numero Cliente\"].append(n)\n",
    "    cliente[\"Nome\"].append(nome)\n",
    "    cliente[\"Cognome\"].append(cognome)\n",
    "    cliente[\"Data di Nascita\"].append(data_nascita)\n",
    "    cliente[\"Regione\"].append(regione)\n",
    "       \n",
    "    \n",
    "    \n",
    "    print(\"Cliente aggiunto!\\n\")\n",
    "\n",
    "print(cliente)     "
   ]
  },
  {
   "cell_type": "code",
   "execution_count": 4,
   "id": "da8d7940",
   "metadata": {},
   "outputs": [],
   "source": [
    "df = pd.DataFrame(cliente)\n",
    "d = date.today()\n",
    "\n",
    "def calcola_eta(dn):\n",
    "    anni = d.year - dn.year\n",
    "\n",
    "    if (d.month, d.day) < (dn.month, dn.day):\n",
    "        anni -= 1\n",
    "    return anni"
   ]
  },
  {
   "cell_type": "code",
   "execution_count": 6,
   "id": "40276a69",
   "metadata": {},
   "outputs": [
    {
     "data": {
      "text/html": [
       "<div>\n",
       "<style scoped>\n",
       "    .dataframe tbody tr th:only-of-type {\n",
       "        vertical-align: middle;\n",
       "    }\n",
       "\n",
       "    .dataframe tbody tr th {\n",
       "        vertical-align: top;\n",
       "    }\n",
       "\n",
       "    .dataframe thead th {\n",
       "        text-align: right;\n",
       "    }\n",
       "</style>\n",
       "<table border=\"1\" class=\"dataframe\">\n",
       "  <thead>\n",
       "    <tr style=\"text-align: right;\">\n",
       "      <th></th>\n",
       "      <th>Numero Cliente</th>\n",
       "      <th>Nome</th>\n",
       "      <th>Cognome</th>\n",
       "      <th>Data di Nascita</th>\n",
       "      <th>Regione</th>\n",
       "    </tr>\n",
       "  </thead>\n",
       "  <tbody>\n",
       "    <tr>\n",
       "      <th>0</th>\n",
       "      <td>1</td>\n",
       "      <td>Ciao</td>\n",
       "      <td>Ciao</td>\n",
       "      <td>2000-01-01</td>\n",
       "      <td>Regione</td>\n",
       "    </tr>\n",
       "    <tr>\n",
       "      <th>1</th>\n",
       "      <td>2</td>\n",
       "      <td>Ciao</td>\n",
       "      <td>Ciao</td>\n",
       "      <td>2020-01-01</td>\n",
       "      <td>Regione</td>\n",
       "    </tr>\n",
       "    <tr>\n",
       "      <th>2</th>\n",
       "      <td>3</td>\n",
       "      <td>Ciao</td>\n",
       "      <td>ciao</td>\n",
       "      <td>2009-01-02</td>\n",
       "      <td>Residenza</td>\n",
       "    </tr>\n",
       "  </tbody>\n",
       "</table>\n",
       "</div>"
      ],
      "text/plain": [
       "   Numero Cliente  Nome Cognome Data di Nascita    Regione\n",
       "0               1  Ciao    Ciao      2000-01-01    Regione\n",
       "1               2  Ciao    Ciao      2020-01-01    Regione\n",
       "2               3  Ciao    ciao      2009-01-02  Residenza"
      ]
     },
     "execution_count": 6,
     "metadata": {},
     "output_type": "execute_result"
    }
   ],
   "source": [
    "df"
   ]
  },
  {
   "cell_type": "code",
   "execution_count": 7,
   "id": "59d59a5f",
   "metadata": {},
   "outputs": [],
   "source": [
    "df[\"Età\"] = df[\"Data di Nascita\"].apply(calcola_eta)\n",
    "\n",
    "df[\"Minorenne\"] = df[\"Età\"].apply(lambda x: \"X\" if x < 18 else \"\")\n",
    "df[\"Eta>17\"]    = df[\"Età\"].apply(lambda x: \"X\" if x > 17 else \"\")\n",
    "df[\"Eta>20\"]    = df[\"Età\"].apply(lambda x: \"X\" if x > 20 else \"\") "
   ]
  },
  {
   "cell_type": "code",
   "execution_count": 8,
   "id": "eb041814",
   "metadata": {},
   "outputs": [],
   "source": [
    "df.to_csv(\"clienti.csv\", index=False) "
   ]
  }
 ],
 "metadata": {
  "kernelspec": {
   "display_name": ".venv",
   "language": "python",
   "name": "python3"
  },
  "language_info": {
   "codemirror_mode": {
    "name": "ipython",
    "version": 3
   },
   "file_extension": ".py",
   "mimetype": "text/x-python",
   "name": "python",
   "nbconvert_exporter": "python",
   "pygments_lexer": "ipython3",
   "version": "3.13.5"
  }
 },
 "nbformat": 4,
 "nbformat_minor": 5
}
