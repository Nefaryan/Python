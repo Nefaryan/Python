{
 "cells": [
  {
   "cell_type": "code",
   "execution_count": null,
   "id": "eddc6dae",
   "metadata": {},
   "outputs": [],
   "source": [
    "import pandas as pd\n",
    "import numpy as np\n",
    "\n",
    "clienti = []"
   ]
  },
  {
   "cell_type": "code",
   "execution_count": null,
   "id": "5d4c556e",
   "metadata": {},
   "outputs": [],
   "source": [
    "while True:\n",
    "    try:\n",
    "        n = int(input(\"Numero Cliente: \"))\n",
    "    except ValueError:\n",
    "        print(\"⚠️  Per favore inserisci un numero intero.\")\n",
    "        continue          # ripete la richiesta\n",
    "    \n",
    "    # 2) Condizione di uscita\n",
    "    if n == 0:\n",
    "        print(\"Inserimento terminato.\")\n",
    "        break\n",
    "\n",
    "    # 3) Raccolta dei dati anagrafici\n",
    "    cliente = {\n",
    "        \"Numero Cliente\": n,\n",
    "        \"Nome\":            input(\"  Nome: \").strip(),\n",
    "        \"Cognome\":         input(\"  Cognome: \").strip(),\n",
    "        \"Data di Nascita\": input(\"  Data di Nascita (YYYY-MM-DD): \").strip(),\n",
    "        \"Regione\":         input(\"  Regione di Residenza: \").strip(),\n",
    "    }\n",
    "    clienti.append(cliente)\n",
    "    print(\"Cliente aggiunto!\\n\")"
   ]
  },
  {
   "cell_type": "code",
   "execution_count": null,
   "id": "eb041814",
   "metadata": {},
   "outputs": [],
   "source": [
    "df = pd.DataFrame(clienti)\n",
    "df.to_csv(\"clienti.csv\", index=False) "
   ]
  }
 ],
 "metadata": {
  "kernelspec": {
   "display_name": ".venv",
   "language": "python",
   "name": "python3"
  },
  "language_info": {
   "codemirror_mode": {
    "name": "ipython",
    "version": 3
   },
   "file_extension": ".py",
   "mimetype": "text/x-python",
   "name": "python",
   "nbconvert_exporter": "python",
   "pygments_lexer": "ipython3",
   "version": "3.13.5"
  }
 },
 "nbformat": 4,
 "nbformat_minor": 5
}
