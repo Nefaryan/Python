{
 "cells": [
  {
   "cell_type": "code",
   "execution_count": 1,
   "id": "27515c21",
   "metadata": {},
   "outputs": [],
   "source": [
    "import pandas as pd\n",
    "import matplotlib.pyplot as plt\n",
    "import seaborn as sns"
   ]
  },
  {
   "cell_type": "code",
   "execution_count": 2,
   "id": "ec29284a",
   "metadata": {},
   "outputs": [],
   "source": [
    "df = pd.read_csv(\"boston.csv\")"
   ]
  },
  {
   "cell_type": "code",
   "execution_count": 3,
   "id": "bb9f2082",
   "metadata": {},
   "outputs": [],
   "source": [
    "df2 = df[[\"CHAS\", \"DIS\", \"MEDV\"]].rename(columns={ \"CHAS\": \"Vicino fiume\", \"DIS\": \"distanza dal lavoro\", \"MEDV\": \"Prezzo medio\"})\n",
    "df2.reset_index(drop=True, inplace=True)"
   ]
  },
  {
   "cell_type": "code",
   "execution_count": 4,
   "id": "ebb128f4",
   "metadata": {},
   "outputs": [
    {
     "name": "stdout",
     "output_type": "stream",
     "text": [
      "\n",
      "\n",
      "      Vicino fiume  distanza dal lavoro  Prezzo medio\n",
      "0               0               4.0900          24.0\n",
      "1               0               4.9671          21.6\n",
      "2               0               4.9671          34.7\n",
      "3               0               6.0622          33.4\n",
      "4               0               6.0622          36.2\n",
      "..            ...                  ...           ...\n",
      "501             0               2.4786          22.4\n",
      "502             0               2.2875          20.6\n",
      "503             0               2.1675          23.9\n",
      "504             0               2.3889          22.0\n",
      "505             0               2.5050          11.9\n",
      "\n",
      "[506 rows x 3 columns]\n",
      "\n",
      "valori mancanti trovati:\n",
      " Vicino fiume           0\n",
      "distanza dal lavoro    0\n",
      "Prezzo medio           0\n",
      "dtype: int64\n"
     ]
    },
    {
     "data": {
      "text/html": [
       "<div>\n",
       "<style scoped>\n",
       "    .dataframe tbody tr th:only-of-type {\n",
       "        vertical-align: middle;\n",
       "    }\n",
       "\n",
       "    .dataframe tbody tr th {\n",
       "        vertical-align: top;\n",
       "    }\n",
       "\n",
       "    .dataframe thead th {\n",
       "        text-align: right;\n",
       "    }\n",
       "</style>\n",
       "<table border=\"1\" class=\"dataframe\">\n",
       "  <thead>\n",
       "    <tr style=\"text-align: right;\">\n",
       "      <th></th>\n",
       "      <th>Vicino fiume</th>\n",
       "      <th>distanza dal lavoro</th>\n",
       "      <th>Prezzo medio</th>\n",
       "    </tr>\n",
       "  </thead>\n",
       "  <tbody>\n",
       "    <tr>\n",
       "      <th>count</th>\n",
       "      <td>506.000000</td>\n",
       "      <td>506.000000</td>\n",
       "      <td>506.000000</td>\n",
       "    </tr>\n",
       "    <tr>\n",
       "      <th>mean</th>\n",
       "      <td>0.069170</td>\n",
       "      <td>3.795043</td>\n",
       "      <td>22.532806</td>\n",
       "    </tr>\n",
       "    <tr>\n",
       "      <th>std</th>\n",
       "      <td>0.253994</td>\n",
       "      <td>2.105710</td>\n",
       "      <td>9.197104</td>\n",
       "    </tr>\n",
       "    <tr>\n",
       "      <th>min</th>\n",
       "      <td>0.000000</td>\n",
       "      <td>1.129600</td>\n",
       "      <td>5.000000</td>\n",
       "    </tr>\n",
       "    <tr>\n",
       "      <th>25%</th>\n",
       "      <td>0.000000</td>\n",
       "      <td>2.100175</td>\n",
       "      <td>17.025000</td>\n",
       "    </tr>\n",
       "    <tr>\n",
       "      <th>50%</th>\n",
       "      <td>0.000000</td>\n",
       "      <td>3.207450</td>\n",
       "      <td>21.200000</td>\n",
       "    </tr>\n",
       "    <tr>\n",
       "      <th>75%</th>\n",
       "      <td>0.000000</td>\n",
       "      <td>5.188425</td>\n",
       "      <td>25.000000</td>\n",
       "    </tr>\n",
       "    <tr>\n",
       "      <th>max</th>\n",
       "      <td>1.000000</td>\n",
       "      <td>12.126500</td>\n",
       "      <td>50.000000</td>\n",
       "    </tr>\n",
       "  </tbody>\n",
       "</table>\n",
       "</div>"
      ],
      "text/plain": [
       "       Vicino fiume  distanza dal lavoro  Prezzo medio\n",
       "count    506.000000           506.000000    506.000000\n",
       "mean       0.069170             3.795043     22.532806\n",
       "std        0.253994             2.105710      9.197104\n",
       "min        0.000000             1.129600      5.000000\n",
       "25%        0.000000             2.100175     17.025000\n",
       "50%        0.000000             3.207450     21.200000\n",
       "75%        0.000000             5.188425     25.000000\n",
       "max        1.000000            12.126500     50.000000"
      ]
     },
     "execution_count": 4,
     "metadata": {},
     "output_type": "execute_result"
    }
   ],
   "source": [
    "print(\"\\n\\n\", df2)\n",
    "print(\"\\nvalori mancanti trovati:\\n\", df2.isnull().sum())\n",
    "df2[\"Vicino fiume\"].mean()\n",
    "df2[\"Vicino fiume\"].max()\n",
    "df2[\"distanza dal lavoro\"].mean()\n",
    "df2[\"distanza dal lavoro\"].max()\n",
    "df2[\"Prezzo medio\"].mean()\n",
    "df2[\"Prezzo medio\"].max()\n",
    "df2.describe()"
   ]
  },
  {
   "cell_type": "code",
   "execution_count": 5,
   "id": "a6350af3",
   "metadata": {},
   "outputs": [
    {
     "data": {
      "image/png": "[encoded data removed]",
      "text/plain": [
       "<Figure size 640x480 with 1 Axes>"
      ]
     },
     "metadata": {},
     "output_type": "display_data"
    }
   ],
   "source": [
    "df2.groupby('Vicino fiume')['Prezzo medio'].mean().plot(kind=\"bar\", color=['red'], legend=False)\n",
    "plt.title(\"Prezzo medio per vicinanza al fiume\")\n",
    "plt.xlabel(\"Vicinanza al fiume\")\n",
    "plt.ylabel(\"Prezzo MEDV ($1000s)\")\n",
    "plt.grid(axis='y')\n",
    "plt.tight_layout()\n",
    "plt.show()"
   ]
  },
  {
   "cell_type": "code",
   "execution_count": 6,
   "id": "4519f5ca",
   "metadata": {},
   "outputs": [
    {
     "data": {
      "text/plain": [
       "Miglia\n",
       "3-5    259\n",
       "0-2    112\n",
       "7-8     86\n",
       "8+      49\n",
       "Name: count, dtype: int64"
      ]
     },
     "execution_count": 6,
     "metadata": {},
     "output_type": "execute_result"
    }
   ],
   "source": [
    "def miglia(dis):\n",
    "    if dis <= 2:\n",
    "        return \"0-2\"\n",
    "    elif dis <= 5:\n",
    "        return \"3-5\"\n",
    "    elif dis <= 7:\n",
    "        return \"7-8\"\n",
    "    else:\n",
    "        return \"8+\"\n",
    "\n",
    "df2[\"Miglia\"]=df2[\"distanza dal lavoro\"].apply(miglia)\n",
    "df2[\"Miglia\"].value_counts()"
   ]
  },
  {
   "cell_type": "code",
   "execution_count": 7,
   "id": "d1b6f2b2",
   "metadata": {},
   "outputs": [
    {
     "data": {
      "image/png": "[encoded data removed]",
      "text/plain": [
       "<Figure size 640x480 with 1 Axes>"
      ]
     },
     "metadata": {},
     "output_type": "display_data"
    }
   ],
   "source": [
    "df2.groupby('Miglia')['Prezzo medio'].mean().plot(kind=\"bar\", color=['green'], legend=False)\n",
    "plt.title(\"Prezzo medio per distanza dal lavoro\")\n",
    "plt.xlabel(\"Distanza dal Lavoro in miglia\")\n",
    "plt.ylabel(\"Prezzo MEDV ($1000s)\")\n",
    "plt.grid(axis='y')\n",
    "plt.tight_layout()\n",
    "plt.show()"
   ]
  }
 ],
 "metadata": {
  "kernelspec": {
   "display_name": ".venv",
   "language": "python",
   "name": "python3"
  },
  "language_info": {
   "codemirror_mode": {
    "name": "ipython",
    "version": 3
   },
   "file_extension": ".py",
   "mimetype": "text/x-python",
   "name": "python",
   "nbconvert_exporter": "python",
   "pygments_lexer": "ipython3",
   "version": "3.13.5"
  }
 },
 "nbformat": 4,
 "nbformat_minor": 5
}
