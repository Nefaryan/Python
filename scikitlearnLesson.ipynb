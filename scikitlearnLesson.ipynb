{
 "cells": [
  {
   "cell_type": "markdown",
   "id": "3d5840a6",
   "metadata": {},
   "source": [
    "# Introduzione a scikit-learn\n",
    "\n",
    "Scikit-learn è una popolare libreria Python per il machine learning che offre strumenti facili da usare sia per classificazione che per regressione. In classificazione si assegnano etichette discrete agli esempi (ad esempio riconoscere se un fiore è Iris-setosa o Iris-versicolor) scikit-learn.org, mentre nella regressione si prevedono valori numerici continui (ad esempio il prezzo di una casa in base alle sue caratteristiche)\n",
    "scikit-learn.org. Un esperimento tipico con scikit-learn segue una pipeline di elaborazione dati che include:\n",
    "\n",
    "- Caricamento dei dati (es. dataset integrati come Iris, Wine, Diabetes).\n",
    "- Preprocessing delle feature (ad esempio scaling con StandardScaler).\n",
    "- Divisione in training/test (con train_test_split per ottenere dati indipendenti di addestramento e valutazione)\n",
    "- Definizione del modello (scegliere un classificatore o regressore).\n",
    "- Addestramento del modello usando .fit().\n",
    "- Predizione sui dati di test usando .predict().\n",
    "- Valutazione delle prestazioni (ad esempio usando .score(), accuracy_score, mean_squared_error) \n",
    "\n",
    "Questa sequenza copre i passi fondamentali: addestrare un modello su dati noti e valutarlo su dati nuovi"
   ]
  },
  {
   "cell_type": "markdown",
   "id": "a4260789",
   "metadata": {},
   "source": [
    "# Guida semplice per installare scikit-learn\n",
    "\n",
    "Per installare scikit-learn, puoi utilizzare il gestore di pacchetti `pip` o `conda`, a seconda dell'ambiente Python che stai utilizzando.\n",
    "\n",
    "## Installazione con pip\n",
    "Se stai utilizzando un ambiente Python standard, puoi installare scikit-learn con il seguente comando:\n",
    "```bash\n",
    "pip install scikit-learn\n",
    "```\n",
    "\n",
    "## Installazione con conda\n",
    "Se stai utilizzando Anaconda o Miniconda, puoi installare scikit-learn con il comando:\n",
    "```bash\n",
    "conda install -c anaconda scikit-learn\n",
    "```\n",
    "\n",
    "## Verifica dell'installazione\n",
    "Dopo l'installazione, puoi verificare che scikit-learn sia stato installato correttamente eseguendo:"
   ]
  },
  {
   "cell_type": "code",
   "execution_count": null,
   "id": "88523564",
   "metadata": {},
   "outputs": [],
   "source": [
    "import sklearn\n",
    "print(sklearn.__version__)"
   ]
  },
  {
   "cell_type": "markdown",
   "id": "42098a09",
   "metadata": {},
   "source": [
    "Questo comando stamperà la versione di scikit-learn installata nel tuo ambiente."
   ]
  },
  {
   "cell_type": "markdown",
   "id": "46b5d5fb",
   "metadata": {},
   "source": [
    "# Configurazione nel contesto dell'Ambiente virtuale\n",
    "\n",
    "## Creazione di un ambiente virtuale\n",
    "Per isolare le dipendenze del progetto, puoi creare un ambiente virtuale utilizzando il seguente comando:\n",
    "```bash\n",
    "python -m venv env\n",
    "```\n",
    "\n",
    "## Attivazione dell'ambiente virtuale\n",
    "Una volta creato l'ambiente virtuale, attivalo con il comando appropriato per il tuo sistema operativo:\n",
    "- **Linux/Mac**: \n",
    "    ```bash\n",
    "    source env/bin/activate\n",
    "    ```\n",
    "- **Windows**: \n",
    "    ```bash\n",
    "    env\\Scripts\\activate\n",
    "    ```\n",
    "\n",
    "## Installazione di scikit-learn\n",
    "Dopo aver attivato l'ambiente virtuale, puoi installare scikit-learn al suo interno utilizzando:\n",
    "```bash\n",
    "pip install scikit-learn\n",
    "```\n",
    "\n",
    "## Aggiornamento delle Dipendenze\n",
    "Per aggiornare scikit-learn all'ultima versione disponibile, puoi utilizzare il seguente comando:\n",
    "```bash\n",
    "pip install --upgrade scikit-learn\n",
    "```\n",
    "\n",
    "Se necessario, verifica e aggiorna anche le dipendenze principali come NumPy e SciPy:\n",
    "```bash\n",
    "pip install --upgrade numpy scipy\n",
    "```\n",
    "\n",
    "## Test di Compatibilità\n",
    "Per assicurarti che le versioni di Python e delle librerie siano compatibili, puoi utilizzare i seguenti comandi:\n",
    "\n",
    "### Controllo della versione di Python\n",
    "```bash\n",
    "python --version\n",
    "```\n",
    "\n",
    "### Controllo delle librerie installate\n",
    "Per vedere tutte le librerie installate e le loro versioni, usa:\n",
    "```bash\n",
    "pip list\n",
    "```"
   ]
  },
  {
   "cell_type": "markdown",
   "id": "440ced30",
   "metadata": {},
   "source": [
    "# Metodi principali di Scikit-learn\n",
    "\n",
    "## sklearn.datasets: Caricamento e Generazione di Dataset\n",
    "\n",
    "La libreria `sklearn.datasets` offre strumenti per caricare dataset di esempio e generare dataset sintetici. Questi dataset sono utili per testare algoritmi e apprendere come utilizzare scikit-learn.\n",
    "\n",
    "## Dataset di esempio\n",
    "Scikit-learn include diversi dataset integrati che possono essere caricati facilmente. Alcuni esempi comuni includono:\n",
    "- **Iris**: Dataset per la classificazione di fiori.\n",
    "- **Wine**: Dataset per la classificazione di tipi di vino.\n",
    "- **Diabetes**: Dataset per la regressione sul diabete.\n",
    "\n",
    "### Esempio: Caricamento del dataset Iris"
   ]
  },
  {
   "cell_type": "code",
   "execution_count": 20,
   "id": "95cfffc6",
   "metadata": {},
   "outputs": [
    {
     "name": "stdout",
     "output_type": "stream",
     "text": [
      "dict_keys(['data', 'target', 'frame', 'target_names', 'DESCR', 'feature_names', 'filename', 'data_module'])\n",
      "[[5.1 3.5 1.4 0.2]\n",
      " [4.9 3.  1.4 0.2]\n",
      " [4.7 3.2 1.3 0.2]\n",
      " [4.6 3.1 1.5 0.2]\n",
      " [5.  3.6 1.4 0.2]]\n",
      "[0 0 0 0 0]\n"
     ]
    }
   ],
   "source": [
    "from sklearn.datasets import load_iris\n",
    "\n",
    "# Carica il dataset Iris\n",
    "iris = load_iris()\n",
    "\n",
    "# Visualizza le chiavi disponibili nel dataset\n",
    "print(iris.keys())\n",
    "\n",
    "# Visualizza le prime 5 righe dei dati\n",
    "print(iris.data[:5])\n",
    "\n",
    "# Visualizza le etichette corrispondenti\n",
    "print(iris.target[:5])"
   ]
  },
  {
   "cell_type": "markdown",
   "id": "d52ecd95",
   "metadata": {},
   "source": [
    "\n",
    "## Dataset sintetici\n",
    "Scikit-learn permette di generare dataset sintetici per testare algoritmi. Alcuni esempi includono:\n",
    "- **make_classification**: Genera dataset per problemi di classificazione.\n",
    "- **make_regression**: Genera dataset per problemi di regressione.\n",
    "- **make_blobs**: Genera cluster di punti per problemi di clustering.\n",
    "\n",
    "### Esempio: Generazione di un dataset di classificazione"
   ]
  },
  {
   "cell_type": "code",
   "execution_count": 21,
   "id": "b9faf207",
   "metadata": {},
   "outputs": [
    {
     "name": "stdout",
     "output_type": "stream",
     "text": [
      "Prime 5 righe dei dati:\n",
      "[[ 0.06561344 -1.81431652 -0.84853401  0.27872303 -1.89816218]\n",
      " [ 1.9436449  -0.7812514  -0.78040602 -1.02038325 -0.17664666]\n",
      " [ 2.21543669 -1.59145991 -1.7541757  -0.15772396  0.8755859 ]\n",
      " [ 2.24889649  1.43883123  1.07127592  0.16608813 -0.73306457]\n",
      " [ 1.39888763  1.60328098  1.30729431 -2.4522646  -0.76359582]]\n",
      "Prime 5 etichette:\n",
      "[0 1 1 1 0]\n",
      "\n",
      "Shape del dataset: (100, 5)\n",
      "Numero di classi: 2\n",
      "Distribuzione delle classi: 50 classe 0, 50 classe 1\n"
     ]
    }
   ],
   "source": [
    "from sklearn.datasets import make_classification\n",
    "\n",
    "# Genera un dataset di classificazione\n",
    "# n_samples: Numero totale di campioni da generare.\n",
    "# n_features: Numero totale di feature (caratteristiche) da generare per ogni campione.\n",
    "# n_informative: Numero di feature informative (devono essere <= n_features)\n",
    "# n_redundant: Numero di feature ridondanti (combinazioni lineari di quelle informative)\n",
    "# n_classes: Numero di classi nel dataset (problema di classificazione).\n",
    "# random_state: Seme per garantire la riproducibilità dei risultati.\n",
    "X, y = make_classification(n_samples=100, n_features=5, n_informative=3, n_redundant=1, n_classes=2, random_state=42)\n",
    "\n",
    "# Visualizza le prime 5 righe dei dati\n",
    "print(\"Prime 5 righe dei dati:\")\n",
    "print(X[:5])\n",
    "\n",
    "# Visualizza le etichette corrispondenti\n",
    "print(\"Prime 5 etichette:\")\n",
    "print(y[:5])\n",
    "\n",
    "# Visualizza informazioni sul dataset\n",
    "print(f\"\\nShape del dataset: {X.shape}\")\n",
    "print(f\"Numero di classi: {len(set(y))}\")\n",
    "print(f\"Distribuzione delle classi: {list(y).count(0)} classe 0, {list(y).count(1)} classe 1\")"
   ]
  },
  {
   "cell_type": "markdown",
   "id": "5df091db",
   "metadata": {},
   "source": [
    "### Esempio: Generazione di un dataset di regressione"
   ]
  },
  {
   "cell_type": "code",
   "execution_count": 22,
   "id": "b4ef8e64",
   "metadata": {},
   "outputs": [
    {
     "name": "stdout",
     "output_type": "stream",
     "text": [
      "Prime 5 righe dei dati:\n",
      "[[ 0.13074058 -1.43014138 -0.44004449]\n",
      " [ 1.50235705 -0.26940683  0.71754226]\n",
      " [ 0.64768854  0.49671415 -0.1382643 ]\n",
      " [ 0.34175598 -0.75913266  0.15039379]\n",
      " [ 0.85639879 -1.51484722 -0.44651495]]\n",
      "Prime 5 etichette:\n",
      "[-55.34280021 153.84274546  48.31418843  18.03506629  -5.84576917]\n",
      "\n",
      "Shape del dataset: (200, 3)\n",
      "Media delle etichette: -6.03\n"
     ]
    }
   ],
   "source": [
    "from sklearn.datasets import make_regression\n",
    "\n",
    "# Genera un dataset di regressione\n",
    "X, y = make_regression(n_samples=200, n_features=3, noise=0.2, random_state=42)\n",
    "\n",
    "# Visualizza le prime 5 righe dei dati\n",
    "print(\"Prime 5 righe dei dati:\")\n",
    "print(X[:5])\n",
    "\n",
    "# Visualizza le etichette corrispondenti\n",
    "print(\"Prime 5 etichette:\")\n",
    "print(y[:5])\n",
    "\n",
    "# Visualizza informazioni sul dataset\n",
    "print(f\"\\nShape del dataset: {X.shape}\")\n",
    "print(f\"Media delle etichette: {y.mean():.2f}\")"
   ]
  },
  {
   "cell_type": "markdown",
   "id": "a9a2f929",
   "metadata": {},
   "source": [
    "### Esempio: Generazione di un dataset di clustering"
   ]
  },
  {
   "cell_type": "code",
   "execution_count": 23,
   "id": "607ee6d0",
   "metadata": {},
   "outputs": [
    {
     "name": "stdout",
     "output_type": "stream",
     "text": [
      "[[-7.72642091 -8.39495682]\n",
      " [ 5.45339605  0.74230537]\n",
      " [-2.97867201  9.55684617]\n",
      " [ 6.04267315  0.57131862]\n",
      " [-6.52183983 -6.31932507]]\n",
      "[2 1 0 1 2]\n"
     ]
    }
   ],
   "source": [
    "from sklearn.datasets import make_blobs\n",
    "\n",
    "# Genera un dataset di clustering\n",
    "X, y = make_blobs(n_samples=100, centers=3, random_state=42)\n",
    "\n",
    "# Visualizza le prime 5 righe dei dati\n",
    "print(X[:5])\n",
    "\n",
    "# Visualizza le etichette corrispondenti\n",
    "print(y[:5])"
   ]
  },
  {
   "cell_type": "markdown",
   "id": "23737ec1",
   "metadata": {},
   "source": [
    "Questi strumenti sono fondamentali per sperimentare e comprendere il funzionamento degli algoritmi di machine learning.\n",
    "\n",
    "---\n",
    "\n",
    "## sklearn.preprocessing: Preprocessing dei Dati\n",
    "\n",
    "La libreria 'sklearn.preprocessing' offre strumenti per pre-processare i dati, rendendoli più adatti agli algoritmi di machine learning. Include metodi per scalare, normalizzare, codificare variabili categoriche e gestire dati mancanti.\n",
    "\n",
    "## Scalatura e Normalizzazione\n",
    "La scalatura e la normalizzazione sono tecniche fondamentali per garantire che i dati siano distribuiti uniformemente e abbiano valori comparabili.\n",
    "\n",
    "### Esempio: Standardizzazione con StandardScaler"
   ]
  },
  {
   "cell_type": "code",
   "execution_count": null,
   "id": "9260e4ba",
   "metadata": {},
   "outputs": [
    {
     "name": "stdout",
     "output_type": "stream",
     "text": [
      "[[-0.62674762 -1.22856868 -1.95030479]\n",
      " [-0.4612102  -0.20527207  0.34388812]\n",
      " [-0.45629324 -0.20220831  0.34457617]\n",
      " [-0.45137629 -0.19914455  0.34526422]\n",
      " [ 1.99562735  1.83519362  0.91657628]]\n"
     ]
    }
   ],
   "source": [
    "from sklearn.preprocessing import StandardScaler\n",
    "\n",
    "# Crea dati di esempio\n",
    "import numpy as np\n",
    "data = np.array([ [1, 2, 3], [4, 5, 6], [7, 8, 9]]) #[-100, -1000, -10000], , [1500, 2000, 2500]\n",
    "\n",
    "# Applica la standardizzazione\n",
    "scaler = StandardScaler()\n",
    "scaled_data = scaler.fit_transform(data)\n",
    "\n",
    "print(scaled_data)"
   ]
  },
  {
   "cell_type": "markdown",
   "id": "aba658c1",
   "metadata": {},
   "source": [
    "\n",
    "\n",
    "### Esempio: Normalizzazione con MinMaxScaler\n"
   ]
  },
  {
   "cell_type": "code",
   "execution_count": 29,
   "id": "6df3060f",
   "metadata": {},
   "outputs": [
    {
     "name": "stdout",
     "output_type": "stream",
     "text": [
      "[[0.       0.       0.      ]\n",
      " [0.063125 0.334    0.80024 ]\n",
      " [0.065    0.335    0.80048 ]\n",
      " [0.066875 0.336    0.80072 ]\n",
      " [1.       1.       1.      ]]\n"
     ]
    }
   ],
   "source": [
    "from sklearn.preprocessing import MinMaxScaler\n",
    "\n",
    "# Applica la normalizzazione\n",
    "# Fromula x' = (x - min(x)) / (max(x) - min(x))\n",
    "minmax_scaler = MinMaxScaler()\n",
    "normalized_data = minmax_scaler.fit_transform(data)\n",
    "\n",
    "print(normalized_data)"
   ]
  },
  {
   "cell_type": "markdown",
   "id": "f9ad2398",
   "metadata": {},
   "source": [
    "## Codifica delle Variabili Categoriali\n",
    "La codifica delle variabili categoriche è essenziale per convertire dati non numerici in un formato utilizzabile dagli algoritmi di machine learning.\n",
    "\n",
    "### Esempio: One-Hot Encoding con OneHotEncoder"
   ]
  },
  {
   "cell_type": "code",
   "execution_count": 30,
   "id": "d464f6f7",
   "metadata": {},
   "outputs": [
    {
     "name": "stdout",
     "output_type": "stream",
     "text": [
      "[[0. 0. 1.]\n",
      " [1. 0. 0.]\n",
      " [0. 1. 0.]]\n"
     ]
    }
   ],
   "source": [
    "from sklearn.preprocessing import OneHotEncoder\n",
    "\n",
    "# Crea dati categorici di esempio\n",
    "categories = np.array([['red'], ['blue'], ['green']])\n",
    "\n",
    "# Applica la codifica one-hot\n",
    "encoder = OneHotEncoder()\n",
    "encoded_data = encoder.fit_transform(categories).toarray()\n",
    "\n",
    "print(encoded_data)"
   ]
  },
  {
   "cell_type": "markdown",
   "id": "192af552",
   "metadata": {},
   "source": [
    "## Gestione dei Dati Mancanti\n",
    "Scikit-learn offre strumenti per gestire i dati mancanti, come l'imputazione.\n",
    "\n",
    "### Esempio: Imputazione con SimpleImputer"
   ]
  },
  {
   "cell_type": "code",
   "execution_count": 31,
   "id": "d94659be",
   "metadata": {},
   "outputs": [
    {
     "name": "stdout",
     "output_type": "stream",
     "text": [
      "[[1.  2.  7.5]\n",
      " [4.  5.  6. ]\n",
      " [7.  8.  9. ]]\n"
     ]
    }
   ],
   "source": [
    "from sklearn.impute import SimpleImputer\n",
    "\n",
    "# Crea dati con valori mancanti\n",
    "data_with_nan = np.array([[1, 2, np.nan], [4, np.nan, 6], [7, 8, 9]])\n",
    "\n",
    "# Applica l'imputazione\n",
    "imputer = SimpleImputer(strategy='mean')\n",
    "imputed_data = imputer.fit_transform(data_with_nan)\n",
    "\n",
    "print(imputed_data)"
   ]
  },
  {
   "cell_type": "markdown",
   "id": "a1c0e2fb",
   "metadata": {},
   "source": [
    "\n",
    "Questi strumenti sono essenziali per preparare i dati prima di applicare algoritmi di machine learning.\n",
    "\n",
    "---"
   ]
  },
  {
   "cell_type": "markdown",
   "id": "9ebec5d6",
   "metadata": {},
   "source": [
    "# sklearn.model_selection: Suddivisione dei Dati e Validazione\n",
    "\n",
    "La libreria `sklearn.model_selection` offre strumenti fondamentali per suddividere i dati, validare i modelli e ottimizzare gli iperparametri. Questi metodi sono essenziali per garantire che i modelli di machine learning siano robusti e generalizzabili.\n",
    "\n",
    "## Suddivisione dei Dati: Training e Test Set\n",
    "\n",
    "La suddivisione dei dati in training e test set è un passaggio cruciale per valutare le prestazioni di un modello. La funzione principale utilizzata è `train_test_split`.\n",
    "\n",
    "### Funzione: train_test_split\n"
   ]
  },
  {
   "cell_type": "code",
   "execution_count": null,
   "id": "fefc4601",
   "metadata": {},
   "outputs": [],
   "source": [
    "from sklearn.model_selection import train_test_split\n",
    "\n",
    "# Suddivide i dati in training e test set\n",
    "X_train, X_test, y_train, y_test = train_test_split(X, y, test_size=0.2, random_state=42)"
   ]
  },
  {
   "cell_type": "markdown",
   "id": "898df5be",
   "metadata": {},
   "source": [
    "\n",
    "- **X_train, y_train**: Dati di addestramento.\n",
    "- **X_test, y_test**: Dati di test.\n",
    "- **test_size**: Percentuale di dati da utilizzare per il test.\n",
    "- **random_state**: Semina per garantire riproducibilità.\n",
    "\n",
    "---\n",
    "\n",
    "## Validazione Incrociata (Cross-Validation)\n",
    "\n",
    "La validazione incrociata è una tecnica per valutare le prestazioni di un modello su diversi sottoinsiemi di dati. Scikit-learn offre diverse funzioni per implementare la validazione incrociata.\n",
    "\n",
    "### Funzione: cross_val_score\n"
   ]
  },
  {
   "cell_type": "code",
   "execution_count": null,
   "id": "2ea08ce1",
   "metadata": {},
   "outputs": [],
   "source": [
    "from sklearn.model_selection import cross_val_score\n",
    "from sklearn.svm import SVC\n",
    "from sklearn.datasets import make_classification\n",
    "from sklearn.model_selection import train_test_split\n",
    "\n",
    "# Genera un dataset di esempio (corretto)\n",
    "(X, y) = make_classification(\n",
    "    n_samples=100, \n",
    "    n_features=4,  # Aumentato il numero di feature totali\n",
    "    n_informative=2,  # Feature informative\n",
    "    n_redundant=1,    # Feature ridondanti\n",
    "    n_clusters_per_class=1,\n",
    "    random_state=42\n",
    ")\n",
    "\n",
    "# Suddivide i dati in training e test set\n",
    "X_train, X_test, y_train, y_test = train_test_split(X, y, test_size=0.2, random_state=42)\n",
    "\n",
    "# Definisce il modello SVM\n",
    "model = SVC(random_state=42)\n",
    "\n",
    "# Calcola le prestazioni del modello con validazione incrociata\n",
    "scores = cross_val_score(model, X, y, cv=5)\n",
    "\n",
    "print(\"Accuracy media:\", scores.mean())"
   ]
  },
  {
   "cell_type": "markdown",
   "id": "56295aa4",
   "metadata": {},
   "source": [
    "\n",
    "- **cv**: Numero di suddivisioni (folds) per la validazione.\n",
    "- **scores**: Risultati delle metriche di valutazione per ogni fold.\n",
    "\n",
    "---\n",
    "\n",
    "## Ricerca degli Iperparametri Ottimali\n",
    "\n",
    "La scelta degli iperparametri ottimali è fondamentale per migliorare le prestazioni del modello. Scikit-learn offre due approcci principali: Grid Search e Random Search.\n",
    "\n",
    "### Grid Search\n",
    "La ricerca a griglia esplora tutte le combinazioni possibili di iperparametri specificati.\n",
    "\n",
    "#### Funzione: GridSearchCV"
   ]
  },
  {
   "cell_type": "code",
   "execution_count": null,
   "id": "89d5797f",
   "metadata": {},
   "outputs": [],
   "source": [
    "from sklearn.model_selection import GridSearchCV\n",
    "from sklearn.svm import SVC\n",
    "from sklearn.datasets import make_classification\n",
    "from sklearn.model_selection import train_test_split\n",
    "\n",
    "X, y = make_classification(\n",
    "    n_samples=100, \n",
    "    n_features=4,  # Aumentato il numero di feature totali\n",
    "    n_informative=2,  # Feature informative\n",
    "    n_redundant=1,    # Feature ridondanti\n",
    "    n_clusters_per_class=1,\n",
    "    random_state=42\n",
    ")\n",
    "\n",
    "# Suddivide i dati in training e test set\n",
    "X_train, X_test, y_train, y_test = train_test_split(X, y, test_size=0.2, random_state=42)\n",
    "\n",
    "# Definisce il modello SVM\n",
    "model = SVC(random_state=42)\n",
    "\n",
    "# Definisce la griglia di iperparametri\n",
    "# Definisce la griglia di iperparametri per la ricerca a griglia.\n",
    "# 'C' controlla il trade-off tra classificazione corretta dei training samples e margine di separazione.\n",
    "# 'kernel' specifica il tipo di funzione kernel da utilizzare per trasformare i dati.\n",
    "# 'linear' indica un kernel lineare, che cerca di separare i dati utilizzando un iperpiano lineare.\n",
    "# 'rbf' indica un kernel Radial Basis Function, che permette di separare i dati in uno spazio di dimensioni superiori utilizzando una funzione non lineare.\n",
    "param_grid = {'C': [0.1, 1, 10], 'kernel': ['linear', 'rbf']}\n",
    "\n",
    "# Esegue la ricerca a griglia\n",
    "grid_search = GridSearchCV(estimator=model, param_grid=param_grid, cv=5)\n",
    "grid_search.fit(X_train, y_train)\n",
    "\n",
    "print(\"Migliori parametri:\", grid_search.best_params_)"
   ]
  },
  {
   "cell_type": "markdown",
   "id": "d7dc4331",
   "metadata": {},
   "source": [
    "\n",
    "---\n",
    "\n",
    "### Random Search\n",
    "La ricerca casuale esplora un sottoinsieme casuale di combinazioni di iperparametri.\n",
    "\n",
    "#### Funzione: RandomizedSearchCV\n"
   ]
  },
  {
   "cell_type": "code",
   "execution_count": null,
   "id": "22fb5bbf",
   "metadata": {},
   "outputs": [],
   "source": [
    "from sklearn.model_selection import RandomizedSearchCV\n",
    "from sklearn.svm import SVC\n",
    "from sklearn.datasets import make_classification\n",
    "from sklearn.model_selection import train_test_split\n",
    "\n",
    "# Genera un dataset di esempio\n",
    "X, y = make_classification(\n",
    "    n_samples=100, \n",
    "    n_features=4,  # Aumentato il numero di feature totali\n",
    "    n_informative=2,  # Feature informative\n",
    "    n_redundant=1,    # Feature ridondanti\n",
    "    n_clusters_per_class=1,\n",
    "    random_state=42\n",
    ")\n",
    "\n",
    "# Suddivide i dati in training e test set\n",
    "X_train, X_test, y_train, y_test = train_test_split(X, y, test_size=0.2, random_state=42)\n",
    "\n",
    "# Definisce il modello SVM\n",
    "model = SVC(random_state=42)\n",
    "\n",
    "# Definisce la distribuzione casuale di iperparametri\n",
    "param_dist = {'C': [0.1, 1, 10], 'kernel': ['linear', 'rbf']}\n",
    "\n",
    "# Esegue la ricerca casuale\n",
    "random_search = RandomizedSearchCV(estimator=model, param_distributions=param_dist, n_iter=10, cv=5, random_state=42)\n",
    "random_search.fit(X_train, y_train)\n",
    "\n",
    "print(\"Migliori parametri:\", random_search.best_params_)"
   ]
  },
  {
   "cell_type": "markdown",
   "id": "9dad4a60",
   "metadata": {},
   "source": [
    "\n",
    "- **n_iter**: Numero di combinazioni casuali da testare.\n",
    "\n",
    "---\n",
    "\n",
    "Questi strumenti di `sklearn.model_selection` sono essenziali per garantire che i modelli siano ben addestrati, valutati e ottimizzati."
   ]
  },
  {
   "cell_type": "markdown",
   "id": "f4c578c5",
   "metadata": {},
   "source": [
    "# sklearn.decomposition: Decomposizione e Riduzione della Dimensionalità\n",
    "\n",
    "La libreria **sklearn.decomposition** offre strumenti per la decomposizione e la riduzione della dimensionalità dei dati. Questi metodi sono utili per semplificare dataset complessi, ridurre il rumore e migliorare le prestazioni degli algoritmi di machine learning. Tra i metodi principali troviamo:\n",
    "\n",
    "- **PCA (Principal Component Analysis)**: Riduce la dimensionalità dei dati preservando la massima varianza.\n",
    "- **ICA (Independent Component Analysis)**: Identifica componenti indipendenti nei dati.\n",
    "\n",
    "---\n",
    "\n",
    "## PCA: Principal Component Analysis\n",
    "\n",
    "L'Analisi delle Componenti Principali (PCA) è una tecnica per ridurre la dimensionalità dei dati trasformandoli in un nuovo spazio di coordinate, dove ogni componente principale rappresenta una direzione di massima varianza.\n",
    "\n",
    "### Esempio: Applicazione di PCA"
   ]
  },
  {
   "cell_type": "code",
   "execution_count": null,
   "id": "c24c0dd6",
   "metadata": {},
   "outputs": [],
   "source": [
    "from sklearn.decomposition import PCA\n",
    "import numpy as np\n",
    "\n",
    "# Crea dati di esempio\n",
    "data = np.array([[2.5, 2.4], [0.5, 0.7], [2.2, 2.9], [1.9, 2.2], [3.1, 3.0], [2.3, 2.7], [2, 1.6], [1, 1.1], [1.5, 1.6], [1.1, 0.9]])\n",
    "\n",
    "# Applica PCA per ridurre la dimensionalità a 1 componente\n",
    "pca = PCA(n_components=1)\n",
    "reduced_data = pca.fit_transform(data)\n",
    "\n",
    "print(\"Dati originali:\", data)\n",
    "print(\"Dati ridotti:\", reduced_data)"
   ]
  },
  {
   "cell_type": "markdown",
   "id": "c92f3e72",
   "metadata": {},
   "source": [
    "### Visualizzazione della Varianza Spiegata"
   ]
  },
  {
   "cell_type": "code",
   "execution_count": null,
   "id": "a6d87180",
   "metadata": {},
   "outputs": [],
   "source": [
    "# Visualizza la varianza spiegata da ogni componente principale\n",
    "print(\"Varianza spiegata:\", pca.explained_variance_ratio_)"
   ]
  },
  {
   "cell_type": "markdown",
   "id": "073db6b3",
   "metadata": {},
   "source": [
    "\n",
    "---\n",
    "\n",
    "## ICA: Independent Component Analysis\n",
    "\n",
    "L'Analisi delle Componenti Indipendenti (ICA) è una tecnica per separare segnali indipendenti in un dataset. È spesso utilizzata per l'elaborazione di segnali e immagini.\n",
    "\n",
    "### Esempio: Applicazione di ICA"
   ]
  },
  {
   "cell_type": "code",
   "execution_count": null,
   "id": "bf18d58a",
   "metadata": {},
   "outputs": [],
   "source": [
    "from sklearn.decomposition import FastICA\n",
    "import numpy as np\n",
    "\n",
    "# Crea dati di esempio (mix di segnali)\n",
    "data = np.array([[1, 2, 3], [4, 5, 6], [7, 8, 9]])\n",
    "\n",
    "# Applica ICA per estrarre componenti indipendenti\n",
    "ica = FastICA(n_components=2, random_state=42)\n",
    "independent_components = ica.fit_transform(data)\n",
    "\n",
    "print(\"Componenti indipendenti:\", independent_components)"
   ]
  },
  {
   "cell_type": "markdown",
   "id": "ab83062a",
   "metadata": {},
   "source": [
    "\n",
    "---\n",
    "\n",
    "## Altri Metodi di Decomposizione\n",
    "\n",
    "### NMF: Non-Negative Matrix Factorization\n",
    "Utilizzato per decomporre dati non negativi, come immagini o dati testuali.\n",
    "\n",
    "#### Esempio:\n"
   ]
  },
  {
   "cell_type": "code",
   "execution_count": null,
   "id": "8a4912e4",
   "metadata": {},
   "outputs": [],
   "source": [
    "from sklearn.decomposition import NMF\n",
    "import numpy as np\n",
    "\n",
    "# Crea dati non negativi di esempio\n",
    "data = np.array([[1, 2], [3, 4], [5, 6]])\n",
    "\n",
    "# Applica NMF\n",
    "nmf = NMF(n_components=2, random_state=42)\n",
    "components = nmf.fit_transform(data)\n",
    "\n",
    "print(\"Componenti NMF:\", components)"
   ]
  },
  {
   "cell_type": "markdown",
   "id": "3aacd4d7",
   "metadata": {},
   "source": [
    "\n",
    "---\n",
    "\n",
    "### TruncatedSVD: Singular Value Decomposition Troncata\n",
    "Utilizzato per ridurre la dimensionalità di dati sparsi, come quelli presenti in applicazioni di NLP.\n",
    "\n",
    "#### Esempio:"
   ]
  },
  {
   "cell_type": "code",
   "execution_count": null,
   "id": "2adaad9c",
   "metadata": {},
   "outputs": [],
   "source": [
    "from sklearn.decomposition import TruncatedSVD\n",
    "import numpy as np\n",
    "\n",
    "# Crea dati sparsi di esempio\n",
    "data = np.array([[0, 0, 1], [1, 0, 0], [0, 1, 0]])\n",
    "\n",
    "# Applica TruncatedSVD\n",
    "svd = TruncatedSVD(n_components=2, random_state=42)\n",
    "reduced_data = svd.fit_transform(data)\n",
    "\n",
    "print(\"Dati ridotti con SVD:\", reduced_data)"
   ]
  },
  {
   "cell_type": "markdown",
   "id": "63aa04df",
   "metadata": {},
   "source": [
    "\n",
    "---\n",
    "\n",
    "Questi metodi di decomposizione sono fondamentali per analizzare e trasformare i dati, rendendoli più gestibili e adatti agli algoritmi di machine learning."
   ]
  },
  {
   "cell_type": "markdown",
   "id": "1feffcba",
   "metadata": {},
   "source": [
    "# sklearn.ensemble: Metodi di Ensemble\n",
    "\n",
    "La libreria **sklearn.ensemble** offre metodi di ensemble che combinano più modelli di base per migliorare le prestazioni predittive. Questi metodi sono particolarmente utili per ridurre il rischio di overfitting e aumentare la robustezza del modello. Tra i principali algoritmi di ensemble troviamo:\n",
    "\n",
    "- **Random Forest**: Combina più alberi decisionali per classificazione o regressione.\n",
    "- **Gradient Boosting**: Costruisce modelli sequenziali ottimizzando gli errori residui.\n",
    "- **AdaBoost**: Combina modelli deboli in modo iterativo per creare un modello forte.\n",
    "\n",
    "---\n",
    "\n",
    "## Random Forest\n",
    "\n",
    "### Teoria\n",
    "Il Random Forest è un metodo di ensemble basato su alberi decisionali. Combina più alberi decisionali indipendenti, ognuno addestrato su un sottoinsieme casuale dei dati e delle feature. La predizione finale è ottenuta tramite media (per regressione) o voto (per classificazione).\n",
    "\n",
    "### Esempio: Classificazione con Random Forest\n"
   ]
  },
  {
   "cell_type": "code",
   "execution_count": null,
   "id": "9601f91e",
   "metadata": {},
   "outputs": [],
   "source": [
    "from sklearn.ensemble import RandomForestClassifier\n",
    "from sklearn.datasets import load_iris\n",
    "from sklearn.model_selection import train_test_split\n",
    "\n",
    "# Carica il dataset Iris\n",
    "iris = load_iris()\n",
    "X, y = iris.data, iris.target\n",
    "\n",
    "# Suddivide i dati in training e test set\n",
    "X_train, X_test, y_train, y_test = train_test_split(X, y, test_size=0.2, random_state=42)\n",
    "\n",
    "# Crea e addestra il modello Random Forest\n",
    "rf = RandomForestClassifier(n_estimators=100, random_state=42)\n",
    "rf.fit(X_train, y_train)\n",
    "\n",
    "# Valuta il modello\n",
    "accuracy = rf.score(X_test, y_test)\n",
    "print(\"Accuracy:\", accuracy)"
   ]
  },
  {
   "cell_type": "markdown",
   "id": "fa88beb7",
   "metadata": {},
   "source": [
    "\n",
    "---\n",
    "\n",
    "## Gradient Boosting\n",
    "\n",
    "### Teoria\n",
    "Il Gradient Boosting è un metodo di ensemble che costruisce modelli sequenziali, dove ogni modello cerca di correggere gli errori residui del modello precedente. È particolarmente efficace per problemi complessi e dataset con feature non lineari.\n",
    "\n",
    "### Esempio: Regressione con Gradient Boosting\n"
   ]
  },
  {
   "cell_type": "code",
   "execution_count": null,
   "id": "62aa138b",
   "metadata": {},
   "outputs": [],
   "source": [
    "from sklearn.ensemble import GradientBoostingRegressor\n",
    "from sklearn.datasets import make_regression\n",
    "from sklearn.model_selection import train_test_split\n",
    "\n",
    "# Genera un dataset di regressione\n",
    "X, y = make_regression(n_samples=1000, n_features=10, noise=0.1, random_state=42)\n",
    "\n",
    "# Suddivide i dati in training e test set\n",
    "X_train, X_test, y_train, y_test = train_test_split(X, y, test_size=0.2, random_state=42)\n",
    "\n",
    "# Crea e addestra il modello Gradient Boosting\n",
    "gb = GradientBoostingRegressor(n_estimators=100, learning_rate=0.1, random_state=42)\n",
    "gb.fit(X_train, y_train)\n",
    "\n",
    "# Valuta il modello\n",
    "score = gb.score(X_test, y_test)\n",
    "print(\"R^2 Score:\", score)"
   ]
  },
  {
   "cell_type": "markdown",
   "id": "7202c5f6",
   "metadata": {},
   "source": [
    "\n",
    "---\n",
    "\n",
    "## AdaBoost\n",
    "\n",
    "### Teoria\n",
    "L'AdaBoost (Adaptive Boosting) combina modelli deboli (ad esempio alberi decisionali di profondità 1) in modo iterativo, assegnando pesi maggiori agli esempi difficili da classificare. Questo approccio migliora la capacità predittiva del modello.\n",
    "\n",
    "### Esempio: Classificazione con AdaBoost\n"
   ]
  },
  {
   "cell_type": "code",
   "execution_count": null,
   "id": "9204f1a2",
   "metadata": {},
   "outputs": [],
   "source": [
    "from sklearn.ensemble import AdaBoostClassifier\n",
    "from sklearn.datasets import load_wine\n",
    "from sklearn.model_selection import train_test_split\n",
    "\n",
    "# Carica il dataset Wine\n",
    "wine = load_wine()\n",
    "X, y = wine.data, wine.target\n",
    "\n",
    "# Suddivide i dati in training e test set\n",
    "X_train, X_test, y_train, y_test = train_test_split(X, y, test_size=0.2, random_state=42)\n",
    "\n",
    "# Crea e addestra il modello AdaBoost\n",
    "adaboost = AdaBoostClassifier(n_estimators=50, random_state=42)\n",
    "adaboost.fit(X_train, y_train)\n",
    "\n",
    "# Valuta il modello\n",
    "accuracy = adaboost.score(X_test, y_test)\n",
    "print(\"Accuracy:\", accuracy)"
   ]
  },
  {
   "cell_type": "markdown",
   "id": "7c60b381",
   "metadata": {},
   "source": [
    "\n",
    "\n",
    "---\n",
    "\n",
    "## Confronto tra i Metodi\n",
    "\n",
    "| Metodo            | Vantaggi                                                                 | Svantaggi                          |\n",
    "|-------------------|--------------------------------------------------------------------------|------------------------------------|\n",
    "| **Random Forest** | Robusto contro overfitting, facile da interpretare                      | Può essere lento con molti alberi |\n",
    "| **Gradient Boosting** | Elevata accuratezza, adatto a problemi complessi                     | Richiede tuning degli iperparametri |\n",
    "| **AdaBoost**      | Efficace con modelli deboli, semplice da implementare                   | Sensibile ai dati rumorosi         |\n",
    "\n",
    "Questi metodi di ensemble sono fondamentali per migliorare le prestazioni predittive e la robustezza dei modelli di machine learning."
   ]
  },
  {
   "cell_type": "markdown",
   "id": "1c3fc7cb",
   "metadata": {},
   "source": [
    "\n",
    "--- \n",
    "\n",
    "# sklearn.linear_model: Modelli Lineari per Regressione e Classificazione\n",
    "\n",
    "La libreria **sklearn.linear_model** offre una vasta gamma di modelli lineari per risolvere problemi di regressione e classificazione. I modelli lineari assumono che la relazione tra le variabili indipendenti (feature) e la variabile dipendente (target) sia rappresentata da una funzione lineare.\n",
    "\n",
    "---\n",
    "\n",
    "## Regressione Lineare\n",
    "\n",
    "### Teoria\n",
    "La Regressione Lineare è uno dei modelli più semplici e utilizzati per problemi di regressione. Cerca di trovare una linea (o un piano, in caso di più feature) che minimizzi la somma dei quadrati degli errori tra i valori predetti e quelli osservati.\n",
    "\n",
    "### Esempio: Applicazione della Regressione Lineare\n"
   ]
  },
  {
   "cell_type": "code",
   "execution_count": null,
   "id": "4f9662c0",
   "metadata": {},
   "outputs": [],
   "source": [
    "from sklearn.linear_model import LinearRegression\n",
    "from sklearn.datasets import make_regression\n",
    "from sklearn.model_selection import train_test_split\n",
    "\n",
    "# Genera un dataset di regressione\n",
    "X, y = make_regression(n_samples=100, n_features=1, noise=10, random_state=42)\n",
    "\n",
    "# Suddivide i dati in training e test set\n",
    "X_train, X_test, y_train, y_test = train_test_split(X, y, test_size=0.2, random_state=42)\n",
    "\n",
    "# Crea e addestra il modello di Regressione Lineare\n",
    "lr = LinearRegression()\n",
    "lr.fit(X_train, y_train)\n",
    "\n",
    "# Valuta il modello\n",
    "print(\"Coefficiente:\", lr.coef_)\n",
    "print(\"Intercept:\", lr.intercept_)\n",
    "print(\"R^2 Score:\", lr.score(X_test, y_test))"
   ]
  },
  {
   "cell_type": "markdown",
   "id": "34f0d35c",
   "metadata": {},
   "source": [
    "\n",
    "\n",
    "---\n",
    "\n",
    "## Regressione Logistica\n",
    "\n",
    "### Teoria\n",
    "La Regressione Logistica è un modello lineare utilizzato per problemi di classificazione. Utilizza una funzione sigmoide per trasformare la somma pesata delle feature in una probabilità, permettendo di classificare gli esempi in categorie.\n",
    "\n",
    "### Esempio: Applicazione della Regressione Logistica\n"
   ]
  },
  {
   "cell_type": "code",
   "execution_count": null,
   "id": "cd4f936f",
   "metadata": {},
   "outputs": [],
   "source": [
    "from sklearn.linear_model import LogisticRegression\n",
    "from sklearn.datasets import make_classification\n",
    "from sklearn.model_selection import train_test_split\n",
    "\n",
    "# Genera un dataset di classificazione con parametri corretti\n",
    "# n_informative=2 e n_redundant=0 per evitare conflitti con n_features=2\n",
    "X, y = make_classification(n_samples=100, n_features=2, n_informative=2, n_redundant=0, n_classes=2, random_state=42)\n",
    "\n",
    "# Suddivide i dati in training e test set\n",
    "X_train, X_test, y_train, y_test = train_test_split(X, y, test_size=0.2, random_state=42)\n",
    "\n",
    "# Crea e addestra il modello di Regressione Logistica\n",
    "log_reg = LogisticRegression()\n",
    "log_reg.fit(X_train, y_train)\n",
    "\n",
    "# Valuta il modello\n",
    "accuracy = log_reg.score(X_test, y_test)\n",
    "print(\"Accuracy:\", accuracy)"
   ]
  },
  {
   "cell_type": "markdown",
   "id": "faf6ad01",
   "metadata": {},
   "source": [
    "\n",
    "\n",
    "---\n",
    "\n",
    "## Lasso Regression\n",
    "\n",
    "### Teoria\n",
    "La Lasso Regression è una variante della Regressione Lineare che utilizza una penalizzazione L1. Questa penalizzazione tende a ridurre a zero i coefficienti di alcune feature, rendendola utile per la selezione delle feature.\n",
    "\n",
    "### Esempio: Applicazione della Lasso Regression\n"
   ]
  },
  {
   "cell_type": "code",
   "execution_count": null,
   "id": "0fb428f7",
   "metadata": {},
   "outputs": [],
   "source": [
    "from sklearn.linear_model import Lasso\n",
    "from sklearn.datasets import make_regression\n",
    "from sklearn.model_selection import train_test_split\n",
    "\n",
    "# Genera un dataset di regressione\n",
    "X, y = make_regression(n_samples=100, n_features=10, noise=10, random_state=42)\n",
    "\n",
    "# Suddivide i dati in training e test set\n",
    "X_train, X_test, y_train, y_test = train_test_split(X, y, test_size=0.2, random_state=42)\n",
    "\n",
    "# Crea e addestra il modello di Lasso Regression\n",
    "lasso = Lasso(alpha=0.1)\n",
    "lasso.fit(X_train, y_train)\n",
    "\n",
    "# Valuta il modello\n",
    "print(\"Coefficiente:\", lasso.coef_)\n",
    "print(\"Intercept:\", lasso.intercept_)\n",
    "print(\"R^2 Score:\", lasso.score(X_test, y_test))\n"
   ]
  },
  {
   "cell_type": "markdown",
   "id": "244f5ab0",
   "metadata": {},
   "source": [
    "\n",
    "---\n",
    "\n",
    "## Ridge Regression\n",
    "\n",
    "### Teoria\n",
    "La Ridge Regression è una variante della Regressione Lineare che utilizza una penalizzazione L2. Questa penalizzazione riduce l'importanza di feature meno rilevanti, ma non le elimina completamente, rendendola utile per gestire problemi di multicollinearità.\n",
    "\n",
    "### Esempio: Applicazione della Ridge Regression\n"
   ]
  },
  {
   "cell_type": "code",
   "execution_count": null,
   "id": "d3b31bb3",
   "metadata": {},
   "outputs": [],
   "source": [
    "from sklearn.linear_model import Ridge\n",
    "from sklearn.datasets import make_regression\n",
    "from sklearn.model_selection import train_test_split\n",
    "\n",
    "# Genera un dataset di regressione\n",
    "X, y = make_regression(n_samples=100, n_features=10, noise=10, random_state=42)\n",
    "\n",
    "# Suddivide i dati in training e test set\n",
    "X_train, X_test, y_train, y_test = train_test_split(X, y, test_size=0.2, random_state=42)\n",
    "\n",
    "# Crea e addestra il modello di Ridge Regression\n",
    "ridge = Ridge(alpha=1.0)\n",
    "ridge.fit(X_train, y_train)\n",
    "\n",
    "# Valuta il modello\n",
    "print(\"Coefficiente:\", ridge.coef_)\n",
    "print(\"Intercept:\", ridge.intercept_)\n",
    "print(\"R^2 Score:\", ridge.score(X_test, y_test))"
   ]
  },
  {
   "cell_type": "markdown",
   "id": "726f680f",
   "metadata": {},
   "source": [
    "\n",
    "\n",
    "---\n",
    "\n",
    "## Confronto tra i Modelli\n",
    "\n",
    "| Modello              | Vantaggi                                      | Svantaggi                          |\n",
    "|----------------------|-----------------------------------------------|------------------------------------|\n",
    "| **Linear Regression** | Semplice da interpretare                     | Sensibile a outlier e multicollinearità |\n",
    "| **Logistic Regression** | Adatto per classificazione                  | Non gestisce bene dati non lineari |\n",
    "| **Lasso Regression**  | Selezione automatica delle feature           | Può eliminare troppe feature       |\n",
    "| **Ridge Regression**  | Gestisce la multicollinearità                | Non elimina completamente feature irrilevanti |\n",
    "\n",
    "Questi modelli lineari sono fondamentali per risolvere problemi di regressione e classificazione in modo semplice ed efficace.\n",
    "\n",
    "---"
   ]
  },
  {
   "cell_type": "markdown",
   "id": "d7e7c1d6",
   "metadata": {},
   "source": [
    "# sklearn.svm: Macchine a Vettori di Supporto (SVM)\n",
    "\n",
    "La libreria **sklearn.svm** implementa le Macchine a Vettori di Supporto (SVM), un potente algoritmo di machine learning utilizzato per problemi di classificazione e regressione. Le SVM sono particolarmente efficaci per gestire dati ad alta dimensionalità e problemi complessi con margini chiari di separazione.\n",
    "\n",
    "---\n",
    "\n",
    "## Teoria delle SVM\n",
    "\n",
    "### Classificazione\n",
    "Le SVM cercano di trovare un iperpiano che separi i dati appartenenti a classi diverse con il margine massimo. Se i dati non sono linearmente separabili, le SVM utilizzano il **kernel trick** per trasformare i dati in uno spazio di dimensioni superiori, dove possono essere separati linearmente.\n",
    "\n",
    "### Regressione\n",
    "Le SVM per regressione (SVR) cercano di trovare una funzione che si avvicini il più possibile ai dati, mantenendo un margine di tolleranza (epsilon) intorno alla funzione predetta.\n",
    "\n",
    "---\n",
    "\n",
    "## Esempio: Classificazione con SVM\n",
    "\n",
    "### Utilizzo di SVC (Support Vector Classifier)\n"
   ]
  },
  {
   "cell_type": "code",
   "execution_count": null,
   "id": "21ac3596",
   "metadata": {},
   "outputs": [],
   "source": [
    "from sklearn.svm import SVC\n",
    "from sklearn.datasets import make_classification\n",
    "from sklearn.model_selection import train_test_split\n",
    "\n",
    "# Genera un dataset di classificazione con 2 feature per la visualizzazione\n",
    "X, y = make_classification(n_samples=100, n_features=2, n_redundant=0, n_informative=2, \n",
    "                           n_clusters_per_class=1, n_classes=2, random_state=42)\n",
    "\n",
    "# Suddivide i dati in training e test set\n",
    "X_train, X_test, y_train, y_test = train_test_split(X, y, test_size=0.2, random_state=42)\n",
    "\n",
    "# Crea e addestra il modello SVM con kernel lineare\n",
    "svc = SVC(kernel='linear', random_state=42)\n",
    "svc.fit(X_train, y_train)\n",
    "\n",
    "# Valuta il modello\n",
    "accuracy = svc.score(X_test, y_test)\n",
    "print(\"Accuracy:\", accuracy)"
   ]
  },
  {
   "cell_type": "markdown",
   "id": "e93582be",
   "metadata": {},
   "source": [
    "\n",
    "\n",
    "### Visualizzazione del Margine\n"
   ]
  },
  {
   "cell_type": "code",
   "execution_count": null,
   "id": "14f3c3a8",
   "metadata": {},
   "outputs": [],
   "source": [
    "import matplotlib.pyplot as plt\n",
    "import numpy as np\n",
    "\n",
    "# Visualizza i dati e il margine\n",
    "def plot_svm_decision_boundary(model, X, y):\n",
    "    plt.scatter(X[:, 0], X[:, 1], c=y, cmap='autumn')\n",
    "    ax = plt.gca()\n",
    "    xlim = ax.get_xlim()\n",
    "    ylim = ax.get_ylim()\n",
    "\n",
    "    # Crea una griglia per il margine\n",
    "    xx, yy = np.meshgrid(np.linspace(xlim[0], xlim[1], 50), np.linspace(ylim[0], ylim[1], 50))\n",
    "    Z = model.decision_function(np.c_[xx.ravel(), yy.ravel()])\n",
    "    Z = Z.reshape(xx.shape)\n",
    "\n",
    "    # Disegna il margine\n",
    "    ax.contour(xx, yy, Z, levels=[-1, 0, 1], linestyles=['--', '-', '--'], colors='black')\n",
    "    plt.show()\n",
    "\n",
    "plot_svm_decision_boundary(svc, X_train, y_train)"
   ]
  },
  {
   "cell_type": "markdown",
   "id": "fe9c59ba",
   "metadata": {},
   "source": [
    "\n",
    "\n",
    "---\n",
    "\n",
    "## Esempio: Regressione con SVM\n",
    "\n",
    "### Utilizzo di SVR (Support Vector Regressor)\n"
   ]
  },
  {
   "cell_type": "code",
   "execution_count": null,
   "id": "c843a8e9",
   "metadata": {},
   "outputs": [],
   "source": [
    "from sklearn.svm import SVR\n",
    "from sklearn.datasets import make_regression\n",
    "from sklearn.model_selection import train_test_split\n",
    "\n",
    "# Genera un dataset di regressione\n",
    "X, y = make_regression(n_samples=100, n_features=1, noise=0.1, random_state=42)\n",
    "\n",
    "# Suddivide i dati in training e test set\n",
    "X_train, X_test, y_train, y_test = train_test_split(X, y, test_size=0.2, random_state=42)\n",
    "\n",
    "# Crea e addestra il modello SVR con kernel RBF\n",
    "svr = SVR(kernel='rbf')\n",
    "svr.fit(X_train, y_train)\n",
    "\n",
    "# Valuta il modello\n",
    "score = svr.score(X_test, y_test)\n",
    "print(\"R^2 Score:\", score)"
   ]
  },
  {
   "cell_type": "markdown",
   "id": "66043141",
   "metadata": {},
   "source": [
    "\n",
    "\n",
    "### Visualizzazione della Regressione\n"
   ]
  },
  {
   "cell_type": "code",
   "execution_count": null,
   "id": "485b246b",
   "metadata": {},
   "outputs": [],
   "source": [
    "# Visualizza i dati e la funzione predetta\n",
    "plt.scatter(X_test, y_test, color='blue', label='Dati reali')\n",
    "plt.scatter(X_test, svr.predict(X_test), color='red', label='Predizioni')\n",
    "plt.legend()\n",
    "plt.show()"
   ]
  },
  {
   "cell_type": "markdown",
   "id": "ad1eec87",
   "metadata": {},
   "source": [
    "\n",
    "\n",
    "---\n",
    "\n",
    "## Kernel nelle SVM\n",
    "\n",
    "Le SVM supportano diversi tipi di kernel per trasformare i dati:\n",
    "- **Lineare**: Utilizzato per dati separabili linearmente.\n",
    "- **Polinomiale**: Adatto per dati con relazioni non lineari.\n",
    "- **RBF (Radial Basis Function)**: Ideale per dati complessi e non lineari.\n",
    "- **Sigmoid**: Utilizzato in alcune applicazioni specifiche.\n",
    "\n",
    "### Esempio: Utilizzo di Kernel Polinomiale\n"
   ]
  },
  {
   "cell_type": "code",
   "execution_count": null,
   "id": "d295323a",
   "metadata": {},
   "outputs": [],
   "source": [
    "from sklearn.svm import SVC\n",
    "from sklearn.datasets import make_classification\n",
    "from sklearn.model_selection import train_test_split\n",
    "\n",
    "# Genera nuovamente il dataset di classificazione per il kernel polinomiale\n",
    "X_class, y_class = make_classification( n_samples=100, n_features=2, n_redundant=0, n_informative=2, \n",
    "                                        n_clusters_per_class=1, n_classes=2, random_state=42)\n",
    "\n",
    "# Suddivide i dati di classificazione in training e test set\n",
    "X_train_class, X_test_class, y_train_class, y_test_class = train_test_split(X_class, y_class, test_size=0.2, random_state=42)\n",
    "\n",
    "# Usa il kernel polinomiale con i dati di classificazione\n",
    "svc_poly = SVC(kernel='poly', degree=3, random_state=42)\n",
    "svc_poly.fit(X_train_class, y_train_class)\n",
    "accuracy_poly = svc_poly.score(X_test_class, y_test_class)\n",
    "print(\"Accuracy con kernel polinomiale:\", accuracy_poly)"
   ]
  },
  {
   "cell_type": "markdown",
   "id": "a6192e26",
   "metadata": {},
   "source": [
    "\n",
    "\n",
    "---\n",
    "\n",
    "## Vantaggi e Svantaggi delle SVM\n",
    "\n",
    "| Vantaggi                              | Svantaggi                          |\n",
    "|---------------------------------------|------------------------------------|\n",
    "| Efficaci per dati ad alta dimensionalità | Sensibili alla scelta del kernel   |\n",
    "| Robuste contro overfitting            | Non scalano bene con dataset grandi |\n",
    "| Supportano classificazione e regressione | Richiedono tuning degli iperparametri |\n",
    "\n",
    "Le SVM sono strumenti versatili e potenti per risolvere problemi complessi, ma richiedono attenzione nella scelta del kernel e nella configurazione degli iperparametri."
   ]
  },
  {
   "cell_type": "markdown",
   "id": "d7a5246e",
   "metadata": {},
   "source": [
    "# sklearn.tree: Alberi Decisionali\n",
    "\n",
    "La libreria **sklearn.tree** implementa algoritmi basati su alberi decisionali per problemi di classificazione e regressione. Gli alberi decisionali sono modelli non parametrici che apprendono una serie di regole decisionali gerarchiche per suddividere lo spazio delle feature. Uno dei principali vantaggi degli alberi decisionali è la loro interpretabilità, poiché le decisioni prese dal modello possono essere facilmente visualizzate e comprese.\n",
    "\n",
    "---\n",
    "\n",
    "## Albero Decisionale per la Classificazione\n",
    "\n",
    "### Teoria\n",
    "Un albero decisionale per la classificazione (`DecisionTreeClassifier`) costruisce un modello che predice il valore di una variabile target apprendendo semplici regole decisionali dedotte dalle feature dei dati. L'albero viene costruito suddividendo ricorsivamente il dataset in sottoinsiemi più piccoli, basandosi sul valore di una feature che massimizza la separazione tra le classi (ad esempio, usando l'indice di Gini o l'entropia).\n",
    "\n",
    "### Esempio: Classificazione con DecisionTreeClassifier"
   ]
  },
  {
   "cell_type": "code",
   "execution_count": null,
   "id": "8ab2ab9f",
   "metadata": {},
   "outputs": [],
   "source": [
    "from sklearn.tree import DecisionTreeClassifier\n",
    "from sklearn.datasets import load_iris\n",
    "from sklearn.model_selection import train_test_split\n",
    "from sklearn.tree import DecisionTreeRegressor\n",
    "from sklearn.datasets import make_regression\n",
    "from sklearn.model_selection import train_test_split\n",
    "from sklearn.tree import plot_tree\n",
    "\n",
    "\n",
    "# Carica il dataset Iris\n",
    "iris = load_iris()\n",
    "X, y = iris.data, iris.target\n",
    "\n",
    "# Suddivide i dati in training e test set\n",
    "X_train, X_test, y_train, y_test = train_test_split(X, y, test_size=0.2, random_state=42)\n",
    "\n",
    "# Crea e addestra il modello di albero decisionale\n",
    "clf = DecisionTreeClassifier(random_state=42)\n",
    "clf.fit(X_train, y_train)\n",
    "\n",
    "# Valuta il modello\n",
    "accuracy = clf.score(X_test, y_test)\n",
    "print(f\"Accuracy del classificatore ad albero decisionale: {accuracy:.2f}\")\n"
   ]
  },
  {
   "cell_type": "markdown",
   "id": "755ee835",
   "metadata": {},
   "source": [
    "## Albero Decisionale per la Regressione\n",
    "\n",
    "### Teoria\n",
    "Un albero decisionale per la regressione (`DecisionTreeRegressor`) funziona in modo simile alla sua controparte per la classificazione. Tuttavia, invece di predire una classe, predice un valore continuo. L'albero viene costruito per minimizzare un criterio come l'errore quadratico medio (MSE), e la predizione in una foglia è tipicamente la media dei valori target dei campioni in quella foglia.\n",
    "\n",
    "### Esempio: Regressione con DecisionTreeRegressor"
   ]
  },
  {
   "cell_type": "code",
   "execution_count": null,
   "id": "3befb6c7",
   "metadata": {},
   "outputs": [],
   "source": [
    "# Genera un dataset di regressione\n",
    "X, y = make_regression(n_samples=100, n_features=1, noise=10, random_state=42)\n",
    "\n",
    "# Suddivide i dati in training e test set\n",
    "X_train, X_test, y_train, y_test = train_test_split(X, y, test_size=0.2, random_state=42)\n",
    "\n",
    "# Crea e addestra il modello di albero decisionale per la regressione\n",
    "reg = DecisionTreeRegressor(random_state=42)\n",
    "reg.fit(X_train, y_train)\n",
    "\n",
    "# Valuta il modello\n",
    "score = reg.score(X_test, y_test)\n",
    "print(f\"R^2 Score del regressore ad albero decisionale: {score:.2f}\")\n"
   ]
  },
  {
   "cell_type": "markdown",
   "id": "d2830ee9",
   "metadata": {},
   "source": [
    "## Visualizzazione dell'Albero\n",
    "\n",
    "La capacità di visualizzare un albero decisionale è uno dei suoi maggiori punti di forza. Scikit-learn offre la funzione `plot_tree` per questo scopo.\n"
   ]
  },
  {
   "cell_type": "code",
   "execution_count": null,
   "id": "a6bc700e",
   "metadata": {},
   "outputs": [],
   "source": [
    "\n",
    "### Esempio:\n",
    "import matplotlib.pyplot as plt\n",
    "\n",
    "# Visualizza l'albero decisionale addestrato per la classificazione\n",
    "plt.figure(figsize=(20,10))\n",
    "plot_tree(clf, filled=True, feature_names=iris.feature_names, class_names=iris.target_names)\n",
    "plt.show()\n"
   ]
  },
  {
   "cell_type": "markdown",
   "id": "5f1b240f",
   "metadata": {},
   "source": [
    "---\n",
    "\n",
    "## Vantaggi e Svantaggi degli Alberi Decisionali\n",
    "\n",
    "| Vantaggi                                      | Svantaggi                                       |\n",
    "|-----------------------------------------------|-------------------------------------------------|\n",
    "| **Facili da interpretare e visualizzare**     | **Tendenza all'overfitting**, specialmente con alberi profondi. |\n",
    "| **Richiedono poca preparazione dei dati** (es. non necessitano di scaling). | **Instabili**: piccole variazioni nei dati possono generare alberi molto diversi. |\n",
    "| **Possono gestire dati numerici e categorici** | Le predizioni sono costanti a tratti, non continue. |\n",
    "| **Modello \"White Box\"**: le decisioni sono trasparenti. | Possono creare alberi distorti se alcune classi dominano. |\n",
    "\n",
    "Gli alberi decisionali sono un blocco di costruzione fondamentale per algoritmi di ensemble più potenti come Random Forest e Gradient Boosting.\n",
    "\n",
    "---"
   ]
  },
  {
   "cell_type": "markdown",
   "id": "15afd920",
   "metadata": {},
   "source": [
    "# sklearn.cluster: Algoritmi di Clustering\n",
    "\n",
    "La libreria **sklearn.cluster** fornisce una suite di algoritmi per il clustering non supervisionato, il cui scopo è raggruppare dati non etichettati in base alla loro somiglianza. Questi metodi sono fondamentali per l'analisi esplorativa dei dati, poiché permettono di scoprire strutture intrinseche, come gruppi o sottogruppi, senza la necessità di informazioni preesistenti sulle categorie. Tra i principali algoritmi troviamo:\n",
    "\n",
    "-   **K-Means**: Partiziona i dati in un numero predefinito di cluster (K) a forma sferica.\n",
    "-   **Agglomerative Clustering**: Costruisce una gerarchia di cluster in modo bottom-up.\n",
    "-   **DBSCAN**: Raggruppa i dati basandosi sulla densità, identificando cluster di forma arbitraria e outlier.\n",
    "\n",
    "---\n",
    "\n",
    "## K-Means Clustering\n",
    "\n",
    "### Teoria\n",
    "L'algoritmo K-Means mira a partizionare `n` osservazioni in `k` cluster, in cui ogni osservazione appartiene al cluster con il centroide (media) più vicino. Funziona in modo iterativo per minimizzare la varianza all'interno di ciascun cluster (inerzia).\n",
    "\n",
    "### Esempio: Applicazione di K-Means\n",
    "\n"
   ]
  },
  {
   "cell_type": "code",
   "execution_count": null,
   "id": "a4b813d2",
   "metadata": {},
   "outputs": [],
   "source": [
    "from sklearn.cluster import KMeans\n",
    "from sklearn.datasets import make_blobs\n",
    "import matplotlib.pyplot as plt\n",
    "\n",
    "# Genera dati di esempio\n",
    "X, y_true = make_blobs(n_samples=300, centers=4, cluster_std=0.60, random_state=0)\n",
    "\n",
    "# Crea e addestra il modello K-Means\n",
    "kmeans = KMeans(n_clusters=4, random_state=42)\n",
    "kmeans.fit(X)\n",
    "y_kmeans = kmeans.predict(X)\n",
    "\n",
    "# Visualizza i risultati\n",
    "plt.scatter(X[:, 0], X[:, 1], c=y_kmeans, s=50, cmap='viridis')\n",
    "centers = kmeans.cluster_centers_\n",
    "plt.scatter(centers[:, 0], centers[:, 1], c='red', s=200, alpha=0.75, marker='X')\n",
    "plt.title('K-Means Clustering')\n",
    "plt.show()\n",
    "\n",
    "print(\"Cluster centers:\\n\", centers)"
   ]
  },
  {
   "cell_type": "markdown",
   "id": "b4a6b86f",
   "metadata": {},
   "source": [
    "\n",
    "---\n",
    "\n",
    "## Agglomerative Clustering\n",
    "\n",
    "### Teoria\n",
    "L'Agglomerative Clustering è un approccio di clustering gerarchico che costruisce una gerarchia di cluster partendo da singoli punti. Ad ogni passo, unisce le due coppie di cluster più vicine secondo una metrica di linkage (es. `ward`, `complete`, `average`).\n",
    "\n",
    "### Esempio: Applicazione dell'Agglomerative Clustering\n",
    "\n"
   ]
  },
  {
   "cell_type": "code",
   "execution_count": null,
   "id": "02782c79",
   "metadata": {},
   "outputs": [],
   "source": [
    "from sklearn.cluster import AgglomerativeClustering\n",
    "\n",
    "# Crea e addestra il modello\n",
    "agg_clustering = AgglomerativeClustering(n_clusters=4, linkage='ward')\n",
    "y_agg = agg_clustering.fit_predict(X)\n",
    "\n",
    "# Visualizza i risultati\n",
    "plt.scatter(X[:, 0], X[:, 1], c=y_agg, s=50, cmap='plasma')\n",
    "plt.title('Agglomerative Clustering')\n",
    "plt.show()"
   ]
  },
  {
   "cell_type": "markdown",
   "id": "33ca9b8b",
   "metadata": {},
   "source": [
    "\n",
    "\n",
    "---\n",
    "\n",
    "## DBSCAN (Density-Based Spatial Clustering of Applications with Noise)\n",
    "\n",
    "### Teoria\n",
    "DBSCAN raggruppa i punti che sono densamente concentrati, contrassegnando come outlier i punti che si trovano in regioni a bassa densità. È particolarmente efficace per identificare cluster di forma non sferica e per gestire il rumore nei dati. I parametri chiave sono `eps` (la distanza massima tra due campioni per essere considerati vicini) e `min_samples` (il numero minimo di campioni in un intorno per formare un cluster).\n",
    "\n",
    "### Esempio: Applicazione di DBSCAN\n"
   ]
  },
  {
   "cell_type": "code",
   "execution_count": null,
   "id": "098d029a",
   "metadata": {},
   "outputs": [],
   "source": [
    "from sklearn.cluster import DBSCAN\n",
    "\n",
    "# Crea e addestra il modello DBSCAN\n",
    "dbscan = DBSCAN(eps=0.6, min_samples=5)\n",
    "y_dbscan = dbscan.fit_predict(X)\n",
    "\n",
    "# Visualizza i risultati\n",
    "plt.scatter(X[:, 0], X[:, 1], c=y_dbscan, s=50, cmap='cividis')\n",
    "plt.title('DBSCAN Clustering')\n",
    "plt.show()\n",
    "\n",
    "# Stampa il numero di cluster trovati (escludendo il rumore, etichettato come -1)\n",
    "n_clusters_ = len(set(y_dbscan)) - (1 if -1 in y_dbscan else 0)\n",
    "print(f'Numero di cluster stimati: {n_clusters_}')"
   ]
  },
  {
   "cell_type": "markdown",
   "id": "8f3fcef0",
   "metadata": {},
   "source": [
    "\n",
    "---\n",
    "\n",
    "## Confronto tra i Metodi di Clustering\n",
    "\n",
    "| Metodo | Vantaggi | Svantaggi |\n",
    "| :--- | :--- | :--- |\n",
    "| **K-Means** | Veloce e scalabile per grandi dataset. | Richiede di specificare il numero di cluster (K); assume cluster sferici. |\n",
    "| **Agglomerative Clustering** | Non assume una forma specifica per i cluster; produce una gerarchia utile. | Computazionalmente intensivo, specialmente per grandi dataset. |\n",
    "| **DBSCAN** | Può trovare cluster di forma arbitraria; robusto agli outlier. | Sensibile ai parametri `eps` e `min_samples`; non performa bene con densità variabili. |"
   ]
  },
  {
   "cell_type": "markdown",
   "id": "e4e44c7d",
   "metadata": {},
   "source": [
    "---\n",
    "\n",
    "# sklearn.metrics: Valutazione delle Prestazioni del Modello\n",
    "\n",
    "La libreria **sklearn.metrics** è una componente cruciale di Scikit-learn che fornisce un insieme completo di strumenti per valutare le prestazioni dei modelli di machine learning. La scelta della metrica corretta è fondamentale, poiché definisce il criterio con cui si misura il \"successo\" di un modello e dipende strettamente dal tipo di problema che si sta affrontando (classificazione, regressione, clustering).\n",
    "\n",
    "---\n",
    "\n",
    "## Metriche di Classificazione\n",
    "\n",
    "Per i problemi di classificazione, le metriche valutano quanto bene un modello è in grado di assegnare le etichette corrette ai dati.\n",
    "\n",
    "### Teoria\n",
    "-   **Accuracy**: La proporzione di predizioni corrette sul totale. È la metrica più semplice, ma può essere fuorviante in caso di dataset sbilanciati.\n",
    "-   **Precision**: Misura la proporzione di veri positivi tra tutte le predizioni positive. È importante quando il costo dei falsi positivi è alto.\n",
    "-   **Recall (Sensitivity)**: Misura la proporzione di veri positivi identificati correttamente. È cruciale quando il costo dei falsi negativi è alto.\n",
    "-   **F1-Score**: La media armonica di Precision e Recall, fornisce un singolo punteggio che bilancia entrambi.\n",
    "-   **Matrice di Confusione**: Una tabella che riassume le prestazioni di un classificatore, mostrando veri positivi, veri negativi, falsi positivi e falsi negativi.\n",
    "-   **Curva ROC e AUC**: La curva ROC (Receiver Operating Characteristic) visualizza il trade-off tra il tasso di veri positivi e il tasso di falsi positivi. L'AUC (Area Under the Curve) riassume questa curva in un singolo valore, che indica la capacità del modello di distinguere tra le classi.\n",
    "\n",
    "### Esempio: Valutazione di un Classificatore"
   ]
  },
  {
   "cell_type": "code",
   "execution_count": 12,
   "id": "e8444872",
   "metadata": {},
   "outputs": [
    {
     "name": "stdout",
     "output_type": "stream",
     "text": [
      "Accuracy: 0.77\n",
      "Precision: 0.74\n",
      "Recall: 0.79\n",
      "F1 Score: 0.76\n",
      "\n",
      "Classification Report:\n",
      "               precision    recall  f1-score   support\n",
      "\n",
      "           0       0.81      0.75      0.78       160\n",
      "           1       0.74      0.79      0.76       140\n",
      "\n",
      "    accuracy                           0.77       300\n",
      "   macro avg       0.77      0.77      0.77       300\n",
      "weighted avg       0.77      0.77      0.77       300\n",
      "\n"
     ]
    },
    {
     "data": {
      "image/png": "[encoded data removed]",
      "text/plain": [
       "<Figure size 640x480 with 2 Axes>"
      ]
     },
     "metadata": {},
     "output_type": "display_data"
    }
   ],
   "source": [
    "from sklearn.metrics import accuracy_score, precision_score, recall_score, f1_score, classification_report, confusion_matrix, ConfusionMatrixDisplay\n",
    "from sklearn.model_selection import train_test_split\n",
    "from sklearn.linear_model import LogisticRegression\n",
    "from sklearn.datasets import make_classification\n",
    "\n",
    "# Genera dati di classificazione\n",
    "X, y = make_classification(n_samples=1000, n_features=10, n_informative=5, n_redundant=0, random_state=42)\n",
    "X_train, X_test, y_train, y_test = train_test_split(X, y, test_size=0.3, random_state=42)\n",
    "\n",
    "# Addestra un modello\n",
    "model = LogisticRegression(random_state=42)\n",
    "model.fit(X_train, y_train)\n",
    "y_pred = model.predict(X_test)\n",
    "\n",
    "# Calcola le metriche\n",
    "accuracy = accuracy_score(y_test, y_pred)\n",
    "precision = precision_score(y_test, y_pred)\n",
    "recall = recall_score(y_test, y_pred)\n",
    "f1 = f1_score(y_test, y_pred)\n",
    "\n",
    "print(f\"Accuracy: {accuracy:.2f}\")\n",
    "print(f\"Precision: {precision:.2f}\")\n",
    "print(f\"Recall: {recall:.2f}\")\n",
    "print(f\"F1 Score: {f1:.2f}\\n\")\n",
    "\n",
    "# Report di classificazione completo\n",
    "print(\"Classification Report:\\n\", classification_report(y_test, y_pred))\n",
    "\n",
    "# Matrice di confusione\n",
    "cm = confusion_matrix(y_test, y_pred)\n",
    "disp = ConfusionMatrixDisplay(confusion_matrix=cm)\n",
    "disp.plot()\n",
    "plt.title('Matrice di Confusione')\n",
    "plt.show()"
   ]
  },
  {
   "cell_type": "markdown",
   "id": "5b926df9",
   "metadata": {},
   "source": [
    "\n",
    "---\n",
    "\n",
    "## Metriche di Regressione\n",
    "\n",
    "Per i problemi di regressione, le metriche valutano quanto le predizioni del modello si avvicinano ai valori numerici reali.\n",
    "\n",
    "### Teoria\n",
    "-   **Mean Absolute Error (MAE)**: La media delle differenze assolute tra valori predetti e reali. È facile da interpretare e meno sensibile agli outlier.\n",
    "-   **Mean Squared Error (MSE)**: La media dei quadrati delle differenze tra valori predetti e reali. Penalizza maggiormente gli errori grandi.\n",
    "-   **R-squared (R²)**: Il coefficiente di determinazione. Indica la proporzione della varianza nella variabile dipendente che è prevedibile dalle variabili indipendenti. Un valore vicino a 1 indica una buona aderenza del modello ai dati.\n",
    "\n",
    "### Esempio: Valutazione di un Regressore\n"
   ]
  },
  {
   "cell_type": "code",
   "execution_count": 13,
   "id": "e4bae862",
   "metadata": {},
   "outputs": [
    {
     "name": "stdout",
     "output_type": "stream",
     "text": [
      "Mean Absolute Error (MAE): 8.42\n",
      "Mean Squared Error (MSE): 104.20\n",
      "R-squared (R²): 0.94\n"
     ]
    }
   ],
   "source": [
    "from sklearn.metrics import mean_absolute_error, mean_squared_error, r2_score\n",
    "from sklearn.linear_model import LinearRegression\n",
    "from sklearn.datasets import make_regression\n",
    "\n",
    "# Genera dati di regressione\n",
    "X, y = make_regression(n_samples=100, n_features=1, noise=10, random_state=42)\n",
    "X_train, X_test, y_train, y_test = train_test_split(X, y, test_size=0.2, random_state=42)\n",
    "\n",
    "# Addestra un modello\n",
    "model = LinearRegression()\n",
    "model.fit(X_train, y_train)\n",
    "y_pred = model.predict(X_test)\n",
    "\n",
    "# Calcola le metriche\n",
    "mae = mean_absolute_error(y_test, y_pred)\n",
    "mse = mean_squared_error(y_test, y_pred)\n",
    "r2 = r2_score(y_test, y_pred)\n",
    "\n",
    "print(f\"Mean Absolute Error (MAE): {mae:.2f}\")\n",
    "print(f\"Mean Squared Error (MSE): {mse:.2f}\")\n",
    "print(f\"R-squared (R²): {r2:.2f}\")"
   ]
  },
  {
   "cell_type": "markdown",
   "id": "88c0deb6",
   "metadata": {},
   "source": [
    "\n",
    "---\n",
    "\n",
    "## Metriche di Clustering\n",
    "\n",
    "Per il clustering, le metriche valutano la qualità dei cluster formati, spesso basandosi sulla compattezza e sulla separazione tra i cluster.\n",
    "\n",
    "### Teoria\n",
    "-   **Silhouette Score**: Misura quanto un oggetto è simile al proprio cluster rispetto agli altri cluster. Varia da -1 a 1, dove un valore alto indica che l'oggetto è ben abbinato al proprio cluster e mal abbinato ai cluster vicini.\n",
    "-   **Adjusted Rand Index (ARI)**: Misura la somiglianza tra le etichette vere e quelle predette, correggendo per l'assegnazione casuale. Richiede la conoscenza delle etichette reali.\n",
    "\n",
    "### Esempio: Valutazione di un Modello di Clustering"
   ]
  },
  {
   "cell_type": "code",
   "execution_count": 14,
   "id": "09c340d6",
   "metadata": {},
   "outputs": [
    {
     "name": "stdout",
     "output_type": "stream",
     "text": [
      "Silhouette Score: 0.68\n",
      "Adjusted Rand Index (ARI): 1.00\n"
     ]
    }
   ],
   "source": [
    "from sklearn.metrics import silhouette_score, adjusted_rand_score\n",
    "from sklearn.cluster import KMeans\n",
    "from sklearn.datasets import make_blobs\n",
    "\n",
    "# Genera dati per il clustering\n",
    "X, y_true = make_blobs(n_samples=300, centers=4, cluster_std=0.60, random_state=0)\n",
    "\n",
    "# Addestra un modello\n",
    "kmeans = KMeans(n_clusters=4, random_state=42)\n",
    "y_pred = kmeans.fit_predict(X)\n",
    "\n",
    "# Calcola le metriche\n",
    "silhouette = silhouette_score(X, y_pred)\n",
    "ari = adjusted_rand_score(y_true, y_pred)\n",
    "\n",
    "print(f\"Silhouette Score: {silhouette:.2f}\")\n",
    "print(f\"Adjusted Rand Index (ARI): {ari:.2f}\")"
   ]
  },
  {
   "cell_type": "markdown",
   "id": "fa57ac11",
   "metadata": {},
   "source": [
    "\n",
    "---\n",
    "\n",
    "# sklearn.neighbors: Algoritmi Basati sui Vicini\n",
    "\n",
    "La libreria **sklearn.neighbors** implementa algoritmi di apprendimento basati sui vicini (neighbor-based), noti anche come metodi non parametrici. Questi algoritmi basano le loro predizioni sulla somiglianza tra i campioni, senza fare assunzioni sulla distribuzione dei dati. I principali metodi includono:\n",
    "\n",
    "-   **K-Nearest Neighbors (KNN)**: Utilizzato sia per la classificazione che per la regressione, predice l'etichetta di un nuovo punto basandosi sulle etichette dei suoi vicini più prossimi.\n",
    "-   **NearestNeighbors**: Un algoritmo non supervisionato per trovare i vicini più prossimi di ogni punto in un dataset.\n",
    "\n",
    "---\n",
    "\n",
    "## K-Nearest Neighbors (KNN) per la Classificazione\n",
    "\n",
    "### Teoria\n",
    "L'algoritmo **KNeighborsClassifier** classifica un nuovo punto di dati assegnandogli la classe più comune tra i suoi `k` vicini più prossimi nel training set. La \"vicinanza\" è tipicamente misurata con una metrica di distanza, come la distanza euclidea. La scelta di `k` è cruciale: un `k` piccolo può portare a un modello sensibile al rumore, mentre un `k` grande può rendere i confini decisionali meno distinti.\n",
    "\n",
    "### Esempio: Classificazione con KNeighborsClassifier\n"
   ]
  },
  {
   "cell_type": "code",
   "execution_count": 15,
   "id": "2b21a82d",
   "metadata": {},
   "outputs": [
    {
     "name": "stdout",
     "output_type": "stream",
     "text": [
      "Accuracy del classificatore KNN: 1.00\n"
     ]
    }
   ],
   "source": [
    "from sklearn.neighbors import KNeighborsClassifier\n",
    "from sklearn.datasets import make_classification\n",
    "from sklearn.model_selection import train_test_split\n",
    "from sklearn.metrics import accuracy_score\n",
    "\n",
    "# Genera dati di esempio\n",
    "X, y = make_classification(n_samples=100, n_features=2, n_informative=2, n_redundant=0, random_state=42)\n",
    "X_train, X_test, y_train, y_test = train_test_split(X, y, test_size=0.3, random_state=42)\n",
    "\n",
    "# Crea e addestra il modello KNN\n",
    "# n_neighbors (k) è il numero di vicini da considerare\n",
    "knn_clf = KNeighborsClassifier(n_neighbors=5)\n",
    "knn_clf.fit(X_train, y_train)\n",
    "\n",
    "# Esegui le predizioni e valuta il modello\n",
    "y_pred = knn_clf.predict(X_test)\n",
    "accuracy = accuracy_score(y_test, y_pred)\n",
    "\n",
    "print(f\"Accuracy del classificatore KNN: {accuracy:.2f}\")"
   ]
  },
  {
   "cell_type": "markdown",
   "id": "078cf93b",
   "metadata": {},
   "source": [
    "\n",
    "---\n",
    "\n",
    "## K-Nearest Neighbors (KNN) per la Regressione\n",
    "\n",
    "### Teoria\n",
    "In modo simile alla classificazione, **KNeighborsRegressor** predice un valore continuo per un nuovo punto di dati. Tuttavia, invece di usare il voto di maggioranza, calcola la media (o una media pesata) dei valori target dei suoi `k` vicini più prossimi.\n",
    "\n",
    "### Esempio: Regressione con KNeighborsRegressor\n"
   ]
  },
  {
   "cell_type": "code",
   "execution_count": 16,
   "id": "65c42177",
   "metadata": {},
   "outputs": [
    {
     "name": "stdout",
     "output_type": "stream",
     "text": [
      "R² Score del regressore KNN: 0.94\n"
     ]
    }
   ],
   "source": [
    "from sklearn.neighbors import KNeighborsRegressor\n",
    "from sklearn.datasets import make_regression\n",
    "from sklearn.model_selection import train_test_split\n",
    "from sklearn.metrics import r2_score\n",
    "\n",
    "# Genera dati di esempio\n",
    "X, y = make_regression(n_samples=100, n_features=1, noise=10, random_state=42)\n",
    "X_train, X_test, y_train, y_test = train_test_split(X, y, test_size=0.2, random_state=42)\n",
    "\n",
    "# Crea e addestra il modello KNN per la regressione\n",
    "knn_reg = KNeighborsRegressor(n_neighbors=7)\n",
    "knn_reg.fit(X_train, y_train)\n",
    "\n",
    "# Esegui le predizioni e valuta il modello\n",
    "y_pred = knn_reg.predict(X_test)\n",
    "r2 = r2_score(y_test, y_pred)\n",
    "\n",
    "print(f\"R² Score del regressore KNN: {r2:.2f}\")"
   ]
  },
  {
   "cell_type": "markdown",
   "id": "fc456b0a",
   "metadata": {},
   "source": [
    "\n",
    "\n",
    "---\n",
    "\n",
    "## Trovare i Vicini più Prossimi\n",
    "\n",
    "### Teoria\n",
    "L'algoritmo **NearestNeighbors** non è un modello predittivo, ma uno strumento per interrogare un dataset e trovare i vicini più prossimi per uno o più punti. È utile in molti contesti, come l'analisi esplorativa o come pre-processing per altri algoritmi.\n",
    "\n",
    "### Esempio: Uso di NearestNeighbors\n"
   ]
  },
  {
   "cell_type": "code",
   "execution_count": 17,
   "id": "1ea52a79",
   "metadata": {},
   "outputs": [
    {
     "name": "stdout",
     "output_type": "stream",
     "text": [
      "Indici dei vicini: [[0 3 1]\n",
      " [4 5 3]]\n",
      "Distanze dai vicini: [[1.41421356 1.41421356 2.23606798]\n",
      " [0.70710678 0.70710678 1.58113883]]\n"
     ]
    }
   ],
   "source": [
    "from sklearn.neighbors import NearestNeighbors\n",
    "import numpy as np\n",
    "\n",
    "# Dati di esempio\n",
    "X = np.array([[-1, -1], [-2, -1], [-3, -2], [1, 1], [2, 1], [3, 2]])\n",
    "\n",
    "# Crea e addestra il modello\n",
    "# n_neighbors=3 significa che cercheremo i 3 vicini più prossimi (incluso il punto stesso)\n",
    "nbrs = NearestNeighbors(n_neighbors=3, algorithm='ball_tree').fit(X)\n",
    "\n",
    "# Trova i vicini per i punti [[0, 0], [2.5, 1.5]]\n",
    "distances, indices = nbrs.kneighbors([[0, 0], [2.5, 1.5]])\n",
    "\n",
    "print(\"Indici dei vicini:\", indices)\n",
    "print(\"Distanze dai vicini:\", distances)"
   ]
  },
  {
   "cell_type": "markdown",
   "id": "f4dd71eb",
   "metadata": {},
   "source": [
    "\n",
    "\n",
    "---\n",
    "\n",
    "## Vantaggi e Svantaggi degli Algoritmi Basati sui Vicini\n",
    "\n",
    "| Vantaggi | Svantaggi |\n",
    "| :--- | :--- |\n",
    "| **Semplice e intuitivo**: Facile da capire e implementare. | **Computazionalmente costoso**: La predizione richiede il calcolo delle distanze da tutti i punti del training set. |\n",
    "| **Nessuna fase di addestramento (Lazy Learning)**: Il \"lavoro\" viene fatto solo al momento della predizione. | **Sensibile alla \"Maledizione della Dimensionalità\"**: Le prestazioni degradano rapidamente all'aumentare del numero di feature. |\n",
    "| **Flessibile**: Può catturare confini decisionali complessi e non lineari. | **Sensibile alla scala delle feature**: È necessario normalizzare i dati. |\n",
    "| **Efficace con dati a bassa dimensionalità**. | **Richiede la scelta ottimale di `k`** e della metrica di distanza. |"
   ]
  },
  {
   "cell_type": "markdown",
   "id": "7399341b",
   "metadata": {},
   "source": [
    "\n",
    "---\n",
    "\n",
    "# sklearn.pipeline: Costruzione di Pipeline di Machine Learning\n",
    "\n",
    "La libreria **sklearn.pipeline** offre strumenti per concatenare più passaggi di elaborazione (trasformatori) e un modello finale (estimatore) in un unico oggetto. Questo approccio, noto come \"pipeline\", semplifica il flusso di lavoro, previene errori comuni e rende il codice più pulito e riproducibile.\n",
    "\n",
    "---\n",
    "\n",
    "## Teoria della Pipeline\n",
    "\n",
    "Una pipeline in Scikit-learn è un oggetto che incapsula una sequenza di trasformazioni dei dati e un estimatore finale. Quando si chiama il metodo `.fit()` sulla pipeline, i dati vengono passati attraverso ogni passaggio in sequenza: ogni trasformatore viene addestrato (`fit_transform`) sui dati di input e l'output viene passato al passaggio successivo, fino a raggiungere l'estimatore finale, che viene addestrato sui dati trasformati.\n",
    "\n",
    "I principali vantaggi dell'utilizzo di una pipeline sono:\n",
    "-   **Convenienza**: Raggruppa più passaggi in un unico oggetto, semplificando l'addestramento e la valutazione.\n",
    "-   **Prevenzione del Data Leakage**: Garantisce che i passaggi di pre-processing (come la scalatura) vengano addestrati solo sui dati di training, evitando che informazioni del set di test \"trapelino\" nel processo di addestramento.\n",
    "-   **Ottimizzazione degli Iperparametri**: Facilita la ricerca a griglia (Grid Search) simultanea degli iperparametri di tutti i passaggi della pipeline.\n",
    "\n",
    "---\n",
    "\n",
    "## Esempio: Creazione di una Pipeline di Classificazione\n",
    "\n",
    "In questo esempio, creeremo una pipeline che esegue due passaggi:\n",
    "1.  **Standardizzazione dei dati**: Utilizza `StandardScaler` per scalare le feature.\n",
    "2.  **Classificazione**: Utilizza un classificatore `SVC` (Support Vector Classifier) per effettuare le predizioni.\n"
   ]
  },
  {
   "cell_type": "code",
   "execution_count": 18,
   "id": "e7dcf67b",
   "metadata": {},
   "outputs": [
    {
     "name": "stdout",
     "output_type": "stream",
     "text": [
      "Accuracy della pipeline: 1.00\n"
     ]
    }
   ],
   "source": [
    "from sklearn.pipeline import Pipeline\n",
    "from sklearn.preprocessing import StandardScaler\n",
    "from sklearn.svm import SVC\n",
    "from sklearn.datasets import make_classification\n",
    "from sklearn.model_selection import train_test_split\n",
    "from sklearn.metrics import accuracy_score\n",
    "\n",
    "# 1. Genera dati di esempio\n",
    "X, y = make_classification(random_state=42)\n",
    "X_train, X_test, y_train, y_test = train_test_split(X, y, random_state=42)\n",
    "\n",
    "# 2. Definisci i passaggi della pipeline\n",
    "# Ogni passaggio è una tupla ('nome_passaggio', oggetto_stimatore)\n",
    "steps = [\n",
    "    ('scaler', StandardScaler()),\n",
    "    ('svc', SVC(kernel='linear', random_state=42))\n",
    "]\n",
    "\n",
    "# 3. Crea la pipeline\n",
    "pipeline = Pipeline(steps)\n",
    "\n",
    "# 4. Addestra la pipeline\n",
    "# StandardScaler viene addestrato e trasforma i dati, poi SVC viene addestrato sui dati trasformati\n",
    "pipeline.fit(X_train, y_train)\n",
    "\n",
    "# 5. Esegui le predizioni\n",
    "y_pred = pipeline.predict(X_test)\n",
    "\n",
    "# 6. Valuta il modello\n",
    "accuracy = pipeline.score(X_test, y_test)\n",
    "\n",
    "print(f\"Accuracy della pipeline: {accuracy:.2f}\")"
   ]
  },
  {
   "cell_type": "markdown",
   "id": "33fc44bf",
   "metadata": {},
   "source": [
    "\n",
    "\n",
    "---\n",
    "\n",
    "## Pipeline e Grid Search\n",
    "\n",
    "Uno dei maggiori vantaggi delle pipeline è la loro integrazione con `GridSearchCV` per l'ottimizzazione degli iperparametri. È possibile definire una griglia di parametri per i diversi passaggi della pipeline, specificando il nome del passaggio seguito da `__` e il nome del parametro.\n",
    "\n",
    "### Esempio:\n"
   ]
  },
  {
   "cell_type": "code",
   "execution_count": 19,
   "id": "a6848f31",
   "metadata": {},
   "outputs": [
    {
     "name": "stdout",
     "output_type": "stream",
     "text": [
      "Migliori parametri trovati: {'svc__C': 0.1, 'svc__kernel': 'linear'}\n",
      "Migliore accuracy con Grid Search: 0.96\n"
     ]
    }
   ],
   "source": [
    "from sklearn.model_selection import GridSearchCV\n",
    "\n",
    "# Definisci la griglia di parametri per la pipeline\n",
    "# 'svc__C' si riferisce al parametro C del passaggio 'svc'\n",
    "param_grid = {\n",
    "    'svc__C': [0.1, 1, 10],\n",
    "    'svc__kernel': ['linear', 'rbf']\n",
    "}\n",
    "\n",
    "# Crea e addestra GridSearchCV con la pipeline\n",
    "search = GridSearchCV(pipeline, param_grid, cv=5)\n",
    "search.fit(X_train, y_train)\n",
    "\n",
    "print(\"Migliori parametri trovati:\", search.best_params_)\n",
    "print(f\"Migliore accuracy con Grid Search: {search.best_score_:.2f}\")"
   ]
  }
 ],
 "metadata": {
  "kernelspec": {
   "display_name": "Python 3",
   "language": "python",
   "name": "python3"
  },
  "language_info": {
   "codemirror_mode": {
    "name": "ipython",
    "version": 3
   },
   "file_extension": ".py",
   "mimetype": "text/x-python",
   "name": "python",
   "nbconvert_exporter": "python",
   "pygments_lexer": "ipython3",
   "version": "3.13.2"
  }
 },
 "nbformat": 4,
 "nbformat_minor": 5
}
