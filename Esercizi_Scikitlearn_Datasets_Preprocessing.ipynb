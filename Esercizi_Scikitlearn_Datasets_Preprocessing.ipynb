{
 "cells": [
  {
   "cell_type": "markdown",
   "id": "163d4355",
   "metadata": {},
   "source": [
    "## 1. sklearn.datasets: Caricamento e Generazione di Dataset\n",
    "\n",
    "### Esercizio 1.1 (Base): Esplorazione Dataset Integrati\n",
    "Carica il dataset Wine e analizza le sue caratteristiche principali."
   ]
  },
  {
   "cell_type": "code",
   "execution_count": null,
   "id": "acd0175e",
   "metadata": {},
   "outputs": [],
   "source": [
    "# Esercizio 1.1: Carica il dataset Wine e rispondi alle seguenti domande:\n",
    "# 1. Quanti campioni e feature contiene?\n",
    "# 2. Quante classi ci sono?\n",
    "# 3. Quali sono i nomi delle feature?\n",
    "# 4. Visualizza le prime 3 righe dei dati\n"
   ]
  },
  {
   "cell_type": "markdown",
   "id": "1fb568cf",
   "metadata": {},
   "source": [
    "### Esercizio 1.2 (Intermedio): Generazione Dataset Personalizzato\n",
    "Crea un dataset sintetico per un problema di classificazione con specifiche caratteristiche."
   ]
  },
  {
   "cell_type": "code",
   "execution_count": null,
   "id": "7d824457",
   "metadata": {},
   "outputs": [],
   "source": [
    "# Esercizio 1.2: Genera un dataset di classificazione con:\n",
    "# - 500 campioni\n",
    "# - 8 feature totali (4 informative, 2 ridondanti)\n",
    "# - 3 classi\n",
    "# - 2 cluster per classe\n",
    "# Poi visualizza le statistiche di base del dataset creato"
   ]
  },
  {
   "cell_type": "markdown",
   "id": "e1b985a3",
   "metadata": {},
   "source": [
    "### Esercizio 1.3 (Avanzato): Confronto Dataset Reali vs Sintetici\n",
    "Confronta le caratteristiche del dataset Diabetes con un dataset sintetico di regressione."
   ]
  },
  {
   "cell_type": "code",
   "execution_count": null,
   "id": "821beb5f",
   "metadata": {},
   "outputs": [],
   "source": [
    "# Esercizio 1.3: \n",
    "# 1. Carica il dataset Diabetes\n",
    "# 2. Crea un dataset sintetico di regressione con le stesse dimensioni\n",
    "# 3. Confronta le statistiche (media, std, range) delle feature"
   ]
  },
  {
   "cell_type": "markdown",
   "id": "dd1d7926",
   "metadata": {},
   "source": [
    "## 2. sklearn.preprocessing: Preprocessing dei Dati\n",
    "\n",
    "### Esercizio 2.1 (Base): Scalatura Dati\n",
    "Applica diverse tecniche di scalatura sui dati del Wine dataset."
   ]
  },
  {
   "cell_type": "code",
   "execution_count": null,
   "id": "cb7301bc",
   "metadata": {},
   "outputs": [],
   "source": [
    "# Esercizio 2.1: Applica StandardScaler e MinMaxScaler al dataset Wine\n",
    "# Confronta i risultati mostrando media e deviazione standard prima e dopo"
   ]
  },
  {
   "cell_type": "markdown",
   "id": "78c615bd",
   "metadata": {},
   "source": [
    "### Esercizio 2.2 (Intermedio): Gestione Dati Mancanti\n",
    "Crea e gestisci un dataset con valori mancanti usando diverse strategie di imputazione."
   ]
  },
  {
   "cell_type": "code",
   "execution_count": null,
   "id": "f38564e8",
   "metadata": {},
   "outputs": [],
   "source": [
    "# Esercizio 2.2: \n",
    "# 1. Crea un array con valori mancanti (NaN) in posizioni casuali\n",
    "# 2. Applica SimpleImputer con strategie: 'mean', 'median', 'most_frequent'\n",
    "# 3. Confronta i risultati"
   ]
  },
  {
   "cell_type": "markdown",
   "id": "e1ccd7ee",
   "metadata": {},
   "source": [
    "### Esercizio 2.3 (Avanzato): Pipeline di Preprocessing Completa\n",
    "Crea una pipeline completa di preprocessing per un dataset misto (numerico e categorico)."
   ]
  },
  {
   "cell_type": "code",
   "execution_count": null,
   "id": "d24b36f4",
   "metadata": {},
   "outputs": [],
   "source": [
    "# Esercizio 2.3: Crea un dataset misto e applica preprocessing completo\n",
    "# 1. Crea dati numerici e categorici\n",
    "# 2. Gestisci valori mancanti\n",
    "# 3. Scala i dati numerici\n",
    "# 4. Codifica i dati categorici\n",
    "# 5. Combina tutto in un'unica pipeline"
   ]
  }
 ],
 "metadata": {
  "language_info": {
   "name": "python"
  }
 },
 "nbformat": 4,
 "nbformat_minor": 5
}
